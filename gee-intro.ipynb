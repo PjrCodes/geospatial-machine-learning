{
 "cells": [
  {
   "cell_type": "code",
   "execution_count": 1,
   "metadata": {},
   "outputs": [
    {
     "name": "stdout",
     "output_type": "stream",
     "text": [
      "Requirement already satisfied: geemap in /Users/anupamsobti/anaconda3/envs/geods/lib/python3.12/site-packages (0.35.1)\n",
      "Requirement already satisfied: bqplot in /Users/anupamsobti/anaconda3/envs/geods/lib/python3.12/site-packages (from geemap) (0.12.44)\n",
      "Requirement already satisfied: colour in /Users/anupamsobti/anaconda3/envs/geods/lib/python3.12/site-packages (from geemap) (0.1.5)\n",
      "Requirement already satisfied: earthengine-api>=1.0.0 in /Users/anupamsobti/anaconda3/envs/geods/lib/python3.12/site-packages (from geemap) (1.4.5)\n",
      "Requirement already satisfied: eerepr>=0.0.4 in /Users/anupamsobti/anaconda3/envs/geods/lib/python3.12/site-packages (from geemap) (0.1.0)\n",
      "Requirement already satisfied: folium>=0.17.0 in /Users/anupamsobti/anaconda3/envs/geods/lib/python3.12/site-packages (from geemap) (0.19.4)\n",
      "Requirement already satisfied: geocoder in /Users/anupamsobti/anaconda3/envs/geods/lib/python3.12/site-packages (from geemap) (1.38.1)\n",
      "Requirement already satisfied: ipyevents in /Users/anupamsobti/anaconda3/envs/geods/lib/python3.12/site-packages (from geemap) (2.0.2)\n",
      "Requirement already satisfied: ipyfilechooser>=0.6.0 in /Users/anupamsobti/anaconda3/envs/geods/lib/python3.12/site-packages (from geemap) (0.6.0)\n",
      "Requirement already satisfied: ipyleaflet>=0.19.2 in /Users/anupamsobti/anaconda3/envs/geods/lib/python3.12/site-packages (from geemap) (0.19.2)\n",
      "Requirement already satisfied: ipytree in /Users/anupamsobti/anaconda3/envs/geods/lib/python3.12/site-packages (from geemap) (0.2.2)\n",
      "Requirement already satisfied: matplotlib in /Users/anupamsobti/anaconda3/envs/geods/lib/python3.12/site-packages (from geemap) (3.10.0)\n",
      "Requirement already satisfied: numpy in /Users/anupamsobti/anaconda3/envs/geods/lib/python3.12/site-packages (from geemap) (2.2.1)\n",
      "Requirement already satisfied: pandas in /Users/anupamsobti/anaconda3/envs/geods/lib/python3.12/site-packages (from geemap) (2.2.3)\n",
      "Requirement already satisfied: plotly in /Users/anupamsobti/anaconda3/envs/geods/lib/python3.12/site-packages (from geemap) (5.24.1)\n",
      "Requirement already satisfied: pyperclip in /Users/anupamsobti/anaconda3/envs/geods/lib/python3.12/site-packages (from geemap) (1.9.0)\n",
      "Requirement already satisfied: pyshp>=2.3.1 in /Users/anupamsobti/anaconda3/envs/geods/lib/python3.12/site-packages (from geemap) (2.3.1)\n",
      "Requirement already satisfied: python-box in /Users/anupamsobti/anaconda3/envs/geods/lib/python3.12/site-packages (from geemap) (7.3.0)\n",
      "Requirement already satisfied: scooby in /Users/anupamsobti/anaconda3/envs/geods/lib/python3.12/site-packages (from geemap) (0.10.0)\n",
      "Requirement already satisfied: google-cloud-storage in /Users/anupamsobti/anaconda3/envs/geods/lib/python3.12/site-packages (from earthengine-api>=1.0.0->geemap) (2.19.0)\n",
      "Requirement already satisfied: google-api-python-client>=1.12.1 in /Users/anupamsobti/anaconda3/envs/geods/lib/python3.12/site-packages (from earthengine-api>=1.0.0->geemap) (2.159.0)\n",
      "Requirement already satisfied: google-auth>=1.4.1 in /Users/anupamsobti/anaconda3/envs/geods/lib/python3.12/site-packages (from earthengine-api>=1.0.0->geemap) (2.37.0)\n",
      "Requirement already satisfied: google-auth-httplib2>=0.0.3 in /Users/anupamsobti/anaconda3/envs/geods/lib/python3.12/site-packages (from earthengine-api>=1.0.0->geemap) (0.2.0)\n",
      "Requirement already satisfied: httplib2<1dev,>=0.9.2 in /Users/anupamsobti/anaconda3/envs/geods/lib/python3.12/site-packages (from earthengine-api>=1.0.0->geemap) (0.22.0)\n",
      "Requirement already satisfied: requests in /Users/anupamsobti/anaconda3/envs/geods/lib/python3.12/site-packages (from earthengine-api>=1.0.0->geemap) (2.32.3)\n",
      "Requirement already satisfied: branca>=0.6.0 in /Users/anupamsobti/anaconda3/envs/geods/lib/python3.12/site-packages (from folium>=0.17.0->geemap) (0.8.1)\n",
      "Requirement already satisfied: jinja2>=2.9 in /Users/anupamsobti/anaconda3/envs/geods/lib/python3.12/site-packages (from folium>=0.17.0->geemap) (3.1.5)\n",
      "Requirement already satisfied: xyzservices in /Users/anupamsobti/anaconda3/envs/geods/lib/python3.12/site-packages (from folium>=0.17.0->geemap) (2024.9.0)\n",
      "Requirement already satisfied: ipywidgets in /Users/anupamsobti/anaconda3/envs/geods/lib/python3.12/site-packages (from ipyfilechooser>=0.6.0->geemap) (8.1.5)\n",
      "Requirement already satisfied: jupyter-leaflet<0.20,>=0.19 in /Users/anupamsobti/anaconda3/envs/geods/lib/python3.12/site-packages (from ipyleaflet>=0.19.2->geemap) (0.19.2)\n",
      "Requirement already satisfied: traittypes<3,>=0.2.1 in /Users/anupamsobti/anaconda3/envs/geods/lib/python3.12/site-packages (from ipyleaflet>=0.19.2->geemap) (0.2.1)\n",
      "Requirement already satisfied: traitlets>=4.3.0 in /Users/anupamsobti/anaconda3/envs/geods/lib/python3.12/site-packages (from bqplot->geemap) (5.14.3)\n",
      "Requirement already satisfied: python-dateutil>=2.8.2 in /Users/anupamsobti/anaconda3/envs/geods/lib/python3.12/site-packages (from pandas->geemap) (2.9.0.post0)\n",
      "Requirement already satisfied: pytz>=2020.1 in /Users/anupamsobti/anaconda3/envs/geods/lib/python3.12/site-packages (from pandas->geemap) (2024.2)\n",
      "Requirement already satisfied: tzdata>=2022.7 in /Users/anupamsobti/anaconda3/envs/geods/lib/python3.12/site-packages (from pandas->geemap) (2024.2)\n",
      "Requirement already satisfied: click in /Users/anupamsobti/anaconda3/envs/geods/lib/python3.12/site-packages (from geocoder->geemap) (8.1.8)\n",
      "Requirement already satisfied: future in /Users/anupamsobti/anaconda3/envs/geods/lib/python3.12/site-packages (from geocoder->geemap) (1.0.0)\n",
      "Requirement already satisfied: ratelim in /Users/anupamsobti/anaconda3/envs/geods/lib/python3.12/site-packages (from geocoder->geemap) (0.1.6)\n",
      "Requirement already satisfied: six in /Users/anupamsobti/anaconda3/envs/geods/lib/python3.12/site-packages (from geocoder->geemap) (1.17.0)\n",
      "Requirement already satisfied: contourpy>=1.0.1 in /Users/anupamsobti/anaconda3/envs/geods/lib/python3.12/site-packages (from matplotlib->geemap) (1.3.1)\n",
      "Requirement already satisfied: cycler>=0.10 in /Users/anupamsobti/anaconda3/envs/geods/lib/python3.12/site-packages (from matplotlib->geemap) (0.12.1)\n",
      "Requirement already satisfied: fonttools>=4.22.0 in /Users/anupamsobti/anaconda3/envs/geods/lib/python3.12/site-packages (from matplotlib->geemap) (4.55.3)\n",
      "Requirement already satisfied: kiwisolver>=1.3.1 in /Users/anupamsobti/anaconda3/envs/geods/lib/python3.12/site-packages (from matplotlib->geemap) (1.4.8)\n",
      "Requirement already satisfied: packaging>=20.0 in /Users/anupamsobti/anaconda3/envs/geods/lib/python3.12/site-packages (from matplotlib->geemap) (24.2)\n",
      "Requirement already satisfied: pillow>=8 in /Users/anupamsobti/anaconda3/envs/geods/lib/python3.12/site-packages (from matplotlib->geemap) (11.1.0)\n",
      "Requirement already satisfied: pyparsing>=2.3.1 in /Users/anupamsobti/anaconda3/envs/geods/lib/python3.12/site-packages (from matplotlib->geemap) (3.2.1)\n",
      "Requirement already satisfied: tenacity>=6.2.0 in /Users/anupamsobti/anaconda3/envs/geods/lib/python3.12/site-packages (from plotly->geemap) (9.0.0)\n",
      "Requirement already satisfied: google-api-core!=2.0.*,!=2.1.*,!=2.2.*,!=2.3.0,<3.0.0.dev0,>=1.31.5 in /Users/anupamsobti/anaconda3/envs/geods/lib/python3.12/site-packages (from google-api-python-client>=1.12.1->earthengine-api>=1.0.0->geemap) (2.24.0)\n",
      "Requirement already satisfied: uritemplate<5,>=3.0.1 in /Users/anupamsobti/anaconda3/envs/geods/lib/python3.12/site-packages (from google-api-python-client>=1.12.1->earthengine-api>=1.0.0->geemap) (4.1.1)\n",
      "Requirement already satisfied: cachetools<6.0,>=2.0.0 in /Users/anupamsobti/anaconda3/envs/geods/lib/python3.12/site-packages (from google-auth>=1.4.1->earthengine-api>=1.0.0->geemap) (5.5.0)\n",
      "Requirement already satisfied: pyasn1-modules>=0.2.1 in /Users/anupamsobti/anaconda3/envs/geods/lib/python3.12/site-packages (from google-auth>=1.4.1->earthengine-api>=1.0.0->geemap) (0.4.1)\n",
      "Requirement already satisfied: rsa<5,>=3.1.4 in /Users/anupamsobti/anaconda3/envs/geods/lib/python3.12/site-packages (from google-auth>=1.4.1->earthengine-api>=1.0.0->geemap) (4.9)\n",
      "Requirement already satisfied: comm>=0.1.3 in /Users/anupamsobti/anaconda3/envs/geods/lib/python3.12/site-packages (from ipywidgets->ipyfilechooser>=0.6.0->geemap) (0.2.2)\n",
      "Requirement already satisfied: ipython>=6.1.0 in /Users/anupamsobti/anaconda3/envs/geods/lib/python3.12/site-packages (from ipywidgets->ipyfilechooser>=0.6.0->geemap) (8.31.0)\n",
      "Requirement already satisfied: widgetsnbextension~=4.0.12 in /Users/anupamsobti/anaconda3/envs/geods/lib/python3.12/site-packages (from ipywidgets->ipyfilechooser>=0.6.0->geemap) (4.0.13)\n",
      "Requirement already satisfied: jupyterlab-widgets~=3.0.12 in /Users/anupamsobti/anaconda3/envs/geods/lib/python3.12/site-packages (from ipywidgets->ipyfilechooser>=0.6.0->geemap) (3.0.13)\n",
      "Requirement already satisfied: MarkupSafe>=2.0 in /Users/anupamsobti/anaconda3/envs/geods/lib/python3.12/site-packages (from jinja2>=2.9->folium>=0.17.0->geemap) (3.0.2)\n",
      "Requirement already satisfied: google-cloud-core<3.0dev,>=2.3.0 in /Users/anupamsobti/anaconda3/envs/geods/lib/python3.12/site-packages (from google-cloud-storage->earthengine-api>=1.0.0->geemap) (2.4.1)\n",
      "Requirement already satisfied: google-resumable-media>=2.7.2 in /Users/anupamsobti/anaconda3/envs/geods/lib/python3.12/site-packages (from google-cloud-storage->earthengine-api>=1.0.0->geemap) (2.7.2)\n",
      "Requirement already satisfied: google-crc32c<2.0dev,>=1.0 in /Users/anupamsobti/anaconda3/envs/geods/lib/python3.12/site-packages (from google-cloud-storage->earthengine-api>=1.0.0->geemap) (1.6.0)\n",
      "Requirement already satisfied: charset-normalizer<4,>=2 in /Users/anupamsobti/anaconda3/envs/geods/lib/python3.12/site-packages (from requests->earthengine-api>=1.0.0->geemap) (3.4.1)\n",
      "Requirement already satisfied: idna<4,>=2.5 in /Users/anupamsobti/anaconda3/envs/geods/lib/python3.12/site-packages (from requests->earthengine-api>=1.0.0->geemap) (3.10)\n",
      "Requirement already satisfied: urllib3<3,>=1.21.1 in /Users/anupamsobti/anaconda3/envs/geods/lib/python3.12/site-packages (from requests->earthengine-api>=1.0.0->geemap) (2.3.0)\n",
      "Requirement already satisfied: certifi>=2017.4.17 in /Users/anupamsobti/anaconda3/envs/geods/lib/python3.12/site-packages (from requests->earthengine-api>=1.0.0->geemap) (2024.12.14)\n",
      "Requirement already satisfied: decorator in /Users/anupamsobti/anaconda3/envs/geods/lib/python3.12/site-packages (from ratelim->geocoder->geemap) (5.1.1)\n",
      "Requirement already satisfied: googleapis-common-protos<2.0.dev0,>=1.56.2 in /Users/anupamsobti/anaconda3/envs/geods/lib/python3.12/site-packages (from google-api-core!=2.0.*,!=2.1.*,!=2.2.*,!=2.3.0,<3.0.0.dev0,>=1.31.5->google-api-python-client>=1.12.1->earthengine-api>=1.0.0->geemap) (1.66.0)\n",
      "Requirement already satisfied: protobuf!=3.20.0,!=3.20.1,!=4.21.0,!=4.21.1,!=4.21.2,!=4.21.3,!=4.21.4,!=4.21.5,<6.0.0.dev0,>=3.19.5 in /Users/anupamsobti/anaconda3/envs/geods/lib/python3.12/site-packages (from google-api-core!=2.0.*,!=2.1.*,!=2.2.*,!=2.3.0,<3.0.0.dev0,>=1.31.5->google-api-python-client>=1.12.1->earthengine-api>=1.0.0->geemap) (5.29.3)\n",
      "Requirement already satisfied: proto-plus<2.0.0dev,>=1.22.3 in /Users/anupamsobti/anaconda3/envs/geods/lib/python3.12/site-packages (from google-api-core!=2.0.*,!=2.1.*,!=2.2.*,!=2.3.0,<3.0.0.dev0,>=1.31.5->google-api-python-client>=1.12.1->earthengine-api>=1.0.0->geemap) (1.25.0)\n",
      "Requirement already satisfied: jedi>=0.16 in /Users/anupamsobti/anaconda3/envs/geods/lib/python3.12/site-packages (from ipython>=6.1.0->ipywidgets->ipyfilechooser>=0.6.0->geemap) (0.19.2)\n",
      "Requirement already satisfied: matplotlib-inline in /Users/anupamsobti/anaconda3/envs/geods/lib/python3.12/site-packages (from ipython>=6.1.0->ipywidgets->ipyfilechooser>=0.6.0->geemap) (0.1.7)\n",
      "Requirement already satisfied: pexpect>4.3 in /Users/anupamsobti/anaconda3/envs/geods/lib/python3.12/site-packages (from ipython>=6.1.0->ipywidgets->ipyfilechooser>=0.6.0->geemap) (4.9.0)\n",
      "Requirement already satisfied: prompt_toolkit<3.1.0,>=3.0.41 in /Users/anupamsobti/anaconda3/envs/geods/lib/python3.12/site-packages (from ipython>=6.1.0->ipywidgets->ipyfilechooser>=0.6.0->geemap) (3.0.48)\n",
      "Requirement already satisfied: pygments>=2.4.0 in /Users/anupamsobti/anaconda3/envs/geods/lib/python3.12/site-packages (from ipython>=6.1.0->ipywidgets->ipyfilechooser>=0.6.0->geemap) (2.19.1)\n",
      "Requirement already satisfied: stack_data in /Users/anupamsobti/anaconda3/envs/geods/lib/python3.12/site-packages (from ipython>=6.1.0->ipywidgets->ipyfilechooser>=0.6.0->geemap) (0.6.3)\n",
      "Requirement already satisfied: pyasn1<0.7.0,>=0.4.6 in /Users/anupamsobti/anaconda3/envs/geods/lib/python3.12/site-packages (from pyasn1-modules>=0.2.1->google-auth>=1.4.1->earthengine-api>=1.0.0->geemap) (0.6.1)\n",
      "Requirement already satisfied: parso<0.9.0,>=0.8.4 in /Users/anupamsobti/anaconda3/envs/geods/lib/python3.12/site-packages (from jedi>=0.16->ipython>=6.1.0->ipywidgets->ipyfilechooser>=0.6.0->geemap) (0.8.4)\n",
      "Requirement already satisfied: ptyprocess>=0.5 in /Users/anupamsobti/anaconda3/envs/geods/lib/python3.12/site-packages (from pexpect>4.3->ipython>=6.1.0->ipywidgets->ipyfilechooser>=0.6.0->geemap) (0.7.0)\n",
      "Requirement already satisfied: wcwidth in /Users/anupamsobti/anaconda3/envs/geods/lib/python3.12/site-packages (from prompt_toolkit<3.1.0,>=3.0.41->ipython>=6.1.0->ipywidgets->ipyfilechooser>=0.6.0->geemap) (0.2.13)\n",
      "Requirement already satisfied: executing>=1.2.0 in /Users/anupamsobti/anaconda3/envs/geods/lib/python3.12/site-packages (from stack_data->ipython>=6.1.0->ipywidgets->ipyfilechooser>=0.6.0->geemap) (2.1.0)\n",
      "Requirement already satisfied: asttokens>=2.1.0 in /Users/anupamsobti/anaconda3/envs/geods/lib/python3.12/site-packages (from stack_data->ipython>=6.1.0->ipywidgets->ipyfilechooser>=0.6.0->geemap) (3.0.0)\n",
      "Requirement already satisfied: pure_eval in /Users/anupamsobti/anaconda3/envs/geods/lib/python3.12/site-packages (from stack_data->ipython>=6.1.0->ipywidgets->ipyfilechooser>=0.6.0->geemap) (0.2.3)\n"
     ]
    }
   ],
   "source": [
    "! pip install geemap"
   ]
  },
  {
   "cell_type": "code",
   "execution_count": 2,
   "metadata": {},
   "outputs": [],
   "source": [
    "import geemap"
   ]
  },
  {
   "cell_type": "code",
   "execution_count": 3,
   "metadata": {},
   "outputs": [
    {
     "data": {
      "text/html": [
       "\n",
       "            <style>\n",
       "                .geemap-dark {\n",
       "                    --jp-widgets-color: white;\n",
       "                    --jp-widgets-label-color: white;\n",
       "                    --jp-ui-font-color1: white;\n",
       "                    --jp-layout-color2: #454545;\n",
       "                    background-color: #383838;\n",
       "                }\n",
       "\n",
       "                .geemap-dark .jupyter-button {\n",
       "                    --jp-layout-color3: #383838;\n",
       "                }\n",
       "\n",
       "                .geemap-colab {\n",
       "                    background-color: var(--colab-primary-surface-color, white);\n",
       "                }\n",
       "\n",
       "                .geemap-colab .jupyter-button {\n",
       "                    --jp-layout-color3: var(--colab-primary-surface-color, white);\n",
       "                }\n",
       "            </style>\n",
       "            "
      ],
      "text/plain": [
       "<IPython.core.display.HTML object>"
      ]
     },
     "metadata": {},
     "output_type": "display_data"
    },
    {
     "data": {
      "application/vnd.jupyter.widget-view+json": {
       "model_id": "e640fd7b44d94ca1829ab4678d4c70e6",
       "version_major": 2,
       "version_minor": 0
      },
      "text/plain": [
       "Map(center=[26.293805525369162, 77.54585509702882], controls=(WidgetControl(options=['position', 'transparent_…"
      ]
     },
     "execution_count": 3,
     "metadata": {},
     "output_type": "execute_result"
    }
   ],
   "source": [
    "map = geemap.Map(center=(26.293805525369162, 77.54585509702882), zoom=5)\n",
    "map"
   ]
  },
  {
   "cell_type": "code",
   "execution_count": 4,
   "metadata": {},
   "outputs": [
    {
     "data": {
      "text/html": [
       "\n",
       "            <style>\n",
       "                .geemap-dark {\n",
       "                    --jp-widgets-color: white;\n",
       "                    --jp-widgets-label-color: white;\n",
       "                    --jp-ui-font-color1: white;\n",
       "                    --jp-layout-color2: #454545;\n",
       "                    background-color: #383838;\n",
       "                }\n",
       "\n",
       "                .geemap-dark .jupyter-button {\n",
       "                    --jp-layout-color3: #383838;\n",
       "                }\n",
       "\n",
       "                .geemap-colab {\n",
       "                    background-color: var(--colab-primary-surface-color, white);\n",
       "                }\n",
       "\n",
       "                .geemap-colab .jupyter-button {\n",
       "                    --jp-layout-color3: var(--colab-primary-surface-color, white);\n",
       "                }\n",
       "            </style>\n",
       "            "
      ],
      "text/plain": [
       "<IPython.core.display.HTML object>"
      ]
     },
     "metadata": {},
     "output_type": "display_data"
    }
   ],
   "source": [
    "map.add_basemap('SATELLITE')\n",
    "\n",
    "#map.set_center(30.6302, 76.7248)\n",
    "#map.set_center(30.631446509381377, 76.72447156832993)\n"
   ]
  },
  {
   "cell_type": "code",
   "execution_count": 5,
   "metadata": {},
   "outputs": [
    {
     "data": {
      "text/html": [
       "\n",
       "            <style>\n",
       "                .geemap-dark {\n",
       "                    --jp-widgets-color: white;\n",
       "                    --jp-widgets-label-color: white;\n",
       "                    --jp-ui-font-color1: white;\n",
       "                    --jp-layout-color2: #454545;\n",
       "                    background-color: #383838;\n",
       "                }\n",
       "\n",
       "                .geemap-dark .jupyter-button {\n",
       "                    --jp-layout-color3: #383838;\n",
       "                }\n",
       "\n",
       "                .geemap-colab {\n",
       "                    background-color: var(--colab-primary-surface-color, white);\n",
       "                }\n",
       "\n",
       "                .geemap-colab .jupyter-button {\n",
       "                    --jp-layout-color3: var(--colab-primary-surface-color, white);\n",
       "                }\n",
       "            </style>\n",
       "            "
      ],
      "text/plain": [
       "<IPython.core.display.HTML object>"
      ]
     },
     "metadata": {},
     "output_type": "display_data"
    }
   ],
   "source": [
    "\n",
    "# Go to Plaksha\n",
    "map.set_center(76.72447156832993, 30.631446509381377 , zoom=16)\n",
    "#map.set_center(76.7248, 30.6302)\n",
    "#map.set_zoom(8)"
   ]
  },
  {
   "cell_type": "code",
   "execution_count": 6,
   "metadata": {},
   "outputs": [
    {
     "data": {
      "text/html": [
       "\n",
       "            <style>\n",
       "                .geemap-dark {\n",
       "                    --jp-widgets-color: white;\n",
       "                    --jp-widgets-label-color: white;\n",
       "                    --jp-ui-font-color1: white;\n",
       "                    --jp-layout-color2: #454545;\n",
       "                    background-color: #383838;\n",
       "                }\n",
       "\n",
       "                .geemap-dark .jupyter-button {\n",
       "                    --jp-layout-color3: #383838;\n",
       "                }\n",
       "\n",
       "                .geemap-colab {\n",
       "                    background-color: var(--colab-primary-surface-color, white);\n",
       "                }\n",
       "\n",
       "                .geemap-colab .jupyter-button {\n",
       "                    --jp-layout-color3: var(--colab-primary-surface-color, white);\n",
       "                }\n",
       "            </style>\n",
       "            "
      ],
      "text/plain": [
       "<IPython.core.display.HTML object>"
      ]
     },
     "metadata": {},
     "output_type": "display_data"
    },
    {
     "name": "stdout",
     "output_type": "stream",
     "text": [
      "OpenStreetMap\n",
      "Esri.WorldStreetMap\n",
      "Esri.WorldImagery\n",
      "Esri.WorldTopoMap\n",
      "FWS NWI Wetlands\n",
      "FWS NWI Wetlands Raster\n",
      "NLCD 2021 CONUS Land Cover\n",
      "NLCD 2019 CONUS Land Cover\n",
      "NLCD 2016 CONUS Land Cover\n",
      "NLCD 2013 CONUS Land Cover\n",
      "NLCD 2011 CONUS Land Cover\n",
      "NLCD 2008 CONUS Land Cover\n",
      "NLCD 2006 CONUS Land Cover\n",
      "NLCD 2004 CONUS Land Cover\n",
      "NLCD 2001 CONUS Land Cover\n",
      "USGS NAIP Imagery\n",
      "USGS NAIP Imagery False Color\n",
      "USGS NAIP Imagery NDVI\n",
      "USGS Hydrography\n",
      "USGS 3DEP Elevation\n",
      "ESA Worldcover 2020\n",
      "ESA Worldcover 2020 S2 FCC\n",
      "ESA Worldcover 2020 S2 TCC\n",
      "ESA Worldcover 2021\n",
      "ESA Worldcover 2021 S2 FCC\n",
      "ESA Worldcover 2021 S2 TCC\n",
      "BaseMapDE.Color\n",
      "BaseMapDE.Grey\n",
      "BasemapAT.basemap\n",
      "BasemapAT.grau\n",
      "BasemapAT.highdpi\n",
      "BasemapAT.orthofoto\n",
      "BasemapAT.overlay\n",
      "BasemapAT.surface\n",
      "BasemapAT.terrain\n",
      "CartoDB.DarkMatter\n",
      "CartoDB.DarkMatterNoLabels\n",
      "CartoDB.DarkMatterOnlyLabels\n",
      "CartoDB.Positron\n",
      "CartoDB.PositronNoLabels\n",
      "CartoDB.PositronOnlyLabels\n",
      "CartoDB.Voyager\n",
      "CartoDB.VoyagerLabelsUnder\n",
      "CartoDB.VoyagerNoLabels\n",
      "CartoDB.VoyagerOnlyLabels\n",
      "CyclOSM\n",
      "Esri.AntarcticBasemap\n",
      "Esri.AntarcticImagery\n",
      "Esri.ArcticImagery\n",
      "Esri.ArcticOceanBase\n",
      "Esri.ArcticOceanReference\n",
      "Esri.NatGeoWorldMap\n",
      "Esri.OceanBasemap\n",
      "Esri.WorldGrayCanvas\n",
      "Esri.WorldPhysical\n",
      "Esri.WorldShadedRelief\n",
      "Esri.WorldTerrain\n",
      "FreeMapSK\n",
      "Gaode.Normal\n",
      "Gaode.Satellite\n",
      "HikeBike.HikeBike\n",
      "HikeBike.HillShading\n",
      "JusticeMap.americanIndian\n",
      "JusticeMap.asian\n",
      "JusticeMap.black\n",
      "JusticeMap.hispanic\n",
      "JusticeMap.income\n",
      "JusticeMap.multi\n",
      "JusticeMap.nonWhite\n",
      "JusticeMap.plurality\n",
      "JusticeMap.white\n",
      "MtbMap\n",
      "NASAGIBS.ASTER_GDEM_Greyscale_Shaded_Relief\n",
      "NASAGIBS.BlueMarble\n",
      "NASAGIBS.BlueMarble3031\n",
      "NASAGIBS.BlueMarble3413\n",
      "NASAGIBS.BlueMarbleBathymetry3031\n",
      "NASAGIBS.BlueMarbleBathymetry3413\n",
      "NASAGIBS.MEaSUREsIceVelocity3031\n",
      "NASAGIBS.MEaSUREsIceVelocity3413\n",
      "NASAGIBS.ModisAquaBands721CR\n",
      "NASAGIBS.ModisAquaTrueColorCR\n",
      "NASAGIBS.ModisTerraAOD\n",
      "NASAGIBS.ModisTerraBands367CR\n",
      "NASAGIBS.ModisTerraBands721CR\n",
      "NASAGIBS.ModisTerraChlorophyll\n",
      "NASAGIBS.ModisTerraLSTDay\n",
      "NASAGIBS.ModisTerraSnowCover\n",
      "NASAGIBS.ModisTerraTrueColorCR\n",
      "NASAGIBS.ViirsEarthAtNight2012\n",
      "NASAGIBS.ViirsTrueColorCR\n",
      "OPNVKarte\n",
      "OneMapSG.Default\n",
      "OneMapSG.Grey\n",
      "OneMapSG.LandLot\n",
      "OneMapSG.Night\n",
      "OneMapSG.Original\n",
      "OpenAIP\n",
      "OpenFireMap\n",
      "OpenRailwayMap\n",
      "OpenSeaMap\n",
      "OpenSnowMap.pistes\n",
      "OpenStreetMap.BZH\n",
      "OpenStreetMap.BlackAndWhite\n",
      "OpenStreetMap.CH\n",
      "OpenStreetMap.DE\n",
      "OpenStreetMap.HOT\n",
      "OpenStreetMap.Mapnik\n",
      "OpenTopoMap\n",
      "SafeCast\n",
      "Stadia.AlidadeSatellite\n",
      "Stadia.AlidadeSmooth\n",
      "Stadia.AlidadeSmoothDark\n",
      "Stadia.OSMBright\n",
      "Stadia.Outdoors\n",
      "Stadia.StamenTerrain\n",
      "Stadia.StamenTerrainBackground\n",
      "Stadia.StamenTerrainLabels\n",
      "Stadia.StamenTerrainLines\n",
      "Stadia.StamenToner\n",
      "Stadia.StamenTonerBackground\n",
      "Stadia.StamenTonerLabels\n",
      "Stadia.StamenTonerLines\n",
      "Stadia.StamenTonerLite\n",
      "Stadia.StamenWatercolor\n",
      "Strava.All\n",
      "Strava.Ride\n",
      "Strava.Run\n",
      "Strava.Water\n",
      "Strava.Winter\n",
      "SwissFederalGeoportal.JourneyThroughTime\n",
      "SwissFederalGeoportal.NationalMapColor\n",
      "SwissFederalGeoportal.NationalMapGrey\n",
      "SwissFederalGeoportal.SWISSIMAGE\n",
      "TopPlusOpen.Color\n",
      "TopPlusOpen.Grey\n",
      "USGS.USImagery\n",
      "USGS.USImageryTopo\n",
      "USGS.USTopo\n",
      "WaymarkedTrails.cycling\n",
      "WaymarkedTrails.hiking\n",
      "WaymarkedTrails.mtb\n",
      "WaymarkedTrails.riding\n",
      "WaymarkedTrails.skating\n",
      "WaymarkedTrails.slopes\n",
      "nlmaps.grijs\n",
      "nlmaps.luchtfoto\n",
      "nlmaps.pastel\n",
      "nlmaps.standaard\n",
      "nlmaps.water\n"
     ]
    }
   ],
   "source": [
    "basemaps = geemap.basemaps\n",
    "\n",
    "for basemap in basemaps:\n",
    "    print(basemap)"
   ]
  },
  {
   "cell_type": "code",
   "execution_count": 7,
   "metadata": {},
   "outputs": [
    {
     "data": {
      "text/html": [
       "\n",
       "            <style>\n",
       "                .geemap-dark {\n",
       "                    --jp-widgets-color: white;\n",
       "                    --jp-widgets-label-color: white;\n",
       "                    --jp-ui-font-color1: white;\n",
       "                    --jp-layout-color2: #454545;\n",
       "                    background-color: #383838;\n",
       "                }\n",
       "\n",
       "                .geemap-dark .jupyter-button {\n",
       "                    --jp-layout-color3: #383838;\n",
       "                }\n",
       "\n",
       "                .geemap-colab {\n",
       "                    background-color: var(--colab-primary-surface-color, white);\n",
       "                }\n",
       "\n",
       "                .geemap-colab .jupyter-button {\n",
       "                    --jp-layout-color3: var(--colab-primary-surface-color, white);\n",
       "                }\n",
       "            </style>\n",
       "            "
      ],
      "text/plain": [
       "<IPython.core.display.HTML object>"
      ]
     },
     "metadata": {},
     "output_type": "display_data"
    }
   ],
   "source": [
    "# Add the hybrid layer (satellite + labels)\n",
    "map.add_tile_layer(\n",
    "    url=\"http://mt1.google.com/vt/lyrs=s,h&x={x}&y={y}&z={z}\",\n",
    "    name=\"Google Hybrid\",\n",
    "    attribution=\"Google\"\n",
    ")\n"
   ]
  },
  {
   "cell_type": "code",
   "execution_count": 8,
   "metadata": {},
   "outputs": [
    {
     "data": {
      "text/html": [
       "\n",
       "            <style>\n",
       "                .geemap-dark {\n",
       "                    --jp-widgets-color: white;\n",
       "                    --jp-widgets-label-color: white;\n",
       "                    --jp-ui-font-color1: white;\n",
       "                    --jp-layout-color2: #454545;\n",
       "                    background-color: #383838;\n",
       "                }\n",
       "\n",
       "                .geemap-dark .jupyter-button {\n",
       "                    --jp-layout-color3: #383838;\n",
       "                }\n",
       "\n",
       "                .geemap-colab {\n",
       "                    background-color: var(--colab-primary-surface-color, white);\n",
       "                }\n",
       "\n",
       "                .geemap-colab .jupyter-button {\n",
       "                    --jp-layout-color3: var(--colab-primary-surface-color, white);\n",
       "                }\n",
       "            </style>\n",
       "            "
      ],
      "text/plain": [
       "<IPython.core.display.HTML object>"
      ]
     },
     "metadata": {},
     "output_type": "display_data"
    }
   ],
   "source": [
    "import ee\n",
    "#import geemap.core as geemap"
   ]
  },
  {
   "cell_type": "markdown",
   "metadata": {},
   "source": [
    "Let us now try to retreive and visualize the satellite imagery for LandSat around the Plaksha region. Here's the Earth Engine Catalog [link](https://developers.google.com/earth-engine/datasets/catalog/LANDSAT_LC08_C02_T1_L2?hl=en#colab-python). Notice the cool roof on Infosys building."
   ]
  },
  {
   "cell_type": "code",
   "execution_count": 9,
   "metadata": {},
   "outputs": [
    {
     "data": {
      "text/html": [
       "\n",
       "            <style>\n",
       "                .geemap-dark {\n",
       "                    --jp-widgets-color: white;\n",
       "                    --jp-widgets-label-color: white;\n",
       "                    --jp-ui-font-color1: white;\n",
       "                    --jp-layout-color2: #454545;\n",
       "                    background-color: #383838;\n",
       "                }\n",
       "\n",
       "                .geemap-dark .jupyter-button {\n",
       "                    --jp-layout-color3: #383838;\n",
       "                }\n",
       "\n",
       "                .geemap-colab {\n",
       "                    background-color: var(--colab-primary-surface-color, white);\n",
       "                }\n",
       "\n",
       "                .geemap-colab .jupyter-button {\n",
       "                    --jp-layout-color3: var(--colab-primary-surface-color, white);\n",
       "                }\n",
       "            </style>\n",
       "            "
      ],
      "text/plain": [
       "<IPython.core.display.HTML object>"
      ]
     },
     "metadata": {},
     "output_type": "display_data"
    }
   ],
   "source": [
    "dataset = ee.ImageCollection('LANDSAT/LC08/C02/T1_L2').filterDate(\n",
    "    '2021-05-01', '2021-06-01'\n",
    ")\n",
    "\n",
    "\n",
    "# Applies scaling factors.\n",
    "def apply_scale_factors(image):\n",
    "  optical_bands = image.select('SR_B.').multiply(0.0000275).add(-0.2)\n",
    "  thermal_bands = image.select('ST_B.*').multiply(0.00341802).add(149.0)\n",
    "  return image.addBands(optical_bands, None, True).addBands(\n",
    "      thermal_bands, None, True\n",
    "  )\n",
    "\n",
    "\n",
    "dataset = dataset.map(apply_scale_factors)\n",
    "\n",
    "visualization = {\n",
    "    'bands': ['SR_B4', 'SR_B3', 'SR_B2'],\n",
    "    'min': 0.0,\n",
    "    'max': 0.3,\n",
    "}\n",
    "\n",
    "map.add_layer(dataset, visualization, 'True Color (432)')\n"
   ]
  },
  {
   "cell_type": "markdown",
   "metadata": {},
   "source": [
    "This is great but probably a few too many pixels. What's the latest real-time medium resolution image we can get? Sentinel 2. Let's try to retreive this."
   ]
  },
  {
   "cell_type": "code",
   "execution_count": 10,
   "metadata": {},
   "outputs": [
    {
     "data": {
      "text/html": [
       "\n",
       "            <style>\n",
       "                .geemap-dark {\n",
       "                    --jp-widgets-color: white;\n",
       "                    --jp-widgets-label-color: white;\n",
       "                    --jp-ui-font-color1: white;\n",
       "                    --jp-layout-color2: #454545;\n",
       "                    background-color: #383838;\n",
       "                }\n",
       "\n",
       "                .geemap-dark .jupyter-button {\n",
       "                    --jp-layout-color3: #383838;\n",
       "                }\n",
       "\n",
       "                .geemap-colab {\n",
       "                    background-color: var(--colab-primary-surface-color, white);\n",
       "                }\n",
       "\n",
       "                .geemap-colab .jupyter-button {\n",
       "                    --jp-layout-color3: var(--colab-primary-surface-color, white);\n",
       "                }\n",
       "            </style>\n",
       "            "
      ],
      "text/plain": [
       "<IPython.core.display.HTML object>"
      ]
     },
     "metadata": {},
     "output_type": "display_data"
    }
   ],
   "source": [
    "def mask_s2_clouds(image):\n",
    "  \"\"\"Masks clouds in a Sentinel-2 image using the QA band.\n",
    "\n",
    "  Args:\n",
    "      image (ee.Image): A Sentinel-2 image.\n",
    "\n",
    "  Returns:\n",
    "      ee.Image: A cloud-masked Sentinel-2 image.\n",
    "  \"\"\"\n",
    "  qa = image.select('QA60')\n",
    "\n",
    "  # Bits 10 and 11 are clouds and cirrus, respectively.\n",
    "  cloud_bit_mask = 1 << 10\n",
    "  cirrus_bit_mask = 1 << 11\n",
    "\n",
    "  # Both flags should be set to zero, indicating clear conditions.\n",
    "  mask = (\n",
    "      qa.bitwiseAnd(cloud_bit_mask)\n",
    "      .eq(0)\n",
    "      .And(qa.bitwiseAnd(cirrus_bit_mask).eq(0))\n",
    "  )\n",
    "\n",
    "  return image.updateMask(mask).divide(10000)\n",
    "\n",
    "\n",
    "dataset = (\n",
    "    ee.ImageCollection('COPERNICUS/S2_SR_HARMONIZED')\n",
    "    .filterDate('2025-01-01', '2025-01-30')\n",
    "    # Pre-filter to get less cloudy granules.\n",
    "    .filter(ee.Filter.lt('CLOUDY_PIXEL_PERCENTAGE', 20))\n",
    "    .map(mask_s2_clouds)\n",
    ")\n",
    "\n",
    "visualization = {\n",
    "    'min': 0.0,\n",
    "    'max': 0.3,\n",
    "    'bands': ['B4', 'B3', 'B2'],\n",
    "}\n",
    "\n",
    "map.add_layer(dataset.mean(), visualization, 'RGB')"
   ]
  },
  {
   "cell_type": "code",
   "execution_count": 11,
   "metadata": {},
   "outputs": [
    {
     "data": {
      "text/html": [
       "\n",
       "            <style>\n",
       "                .geemap-dark {\n",
       "                    --jp-widgets-color: white;\n",
       "                    --jp-widgets-label-color: white;\n",
       "                    --jp-ui-font-color1: white;\n",
       "                    --jp-layout-color2: #454545;\n",
       "                    background-color: #383838;\n",
       "                }\n",
       "\n",
       "                .geemap-dark .jupyter-button {\n",
       "                    --jp-layout-color3: #383838;\n",
       "                }\n",
       "\n",
       "                .geemap-colab {\n",
       "                    background-color: var(--colab-primary-surface-color, white);\n",
       "                }\n",
       "\n",
       "                .geemap-colab .jupyter-button {\n",
       "                    --jp-layout-color3: var(--colab-primary-surface-color, white);\n",
       "                }\n",
       "            </style>\n",
       "            "
      ],
      "text/plain": [
       "<IPython.core.display.HTML object>"
      ]
     },
     "metadata": {},
     "output_type": "display_data"
    }
   ],
   "source": [
    "import geopandas as gpd\n",
    "import geemap\n",
    "import json\n",
    "\n",
    "# Load the shapefile\n",
    "shapefile = 'data/potential-construction.shp'\n",
    "gdf = gpd.read_file(shapefile)\n",
    "\n",
    "# Convert the GeoDataFrame to GeoJSON format\n",
    "geojson = gdf.to_json()\n",
    "\n",
    "# Parse the GeoJSON string to a dictionary\n",
    "geojson_dict = json.loads(geojson)\n",
    "\n",
    "# Convert the GeoJSON to an Earth Engine object\n",
    "ee_object = geemap.geojson_to_ee(geojson_dict)\n",
    "\n",
    "# Add the EE object to the map\n",
    "map.addLayer(ee_object, {}, 'Potential Construction Sites')\n"
   ]
  },
  {
   "cell_type": "code",
   "execution_count": 12,
   "metadata": {},
   "outputs": [
    {
     "data": {
      "text/html": [
       "\n",
       "            <style>\n",
       "                .geemap-dark {\n",
       "                    --jp-widgets-color: white;\n",
       "                    --jp-widgets-label-color: white;\n",
       "                    --jp-ui-font-color1: white;\n",
       "                    --jp-layout-color2: #454545;\n",
       "                    background-color: #383838;\n",
       "                }\n",
       "\n",
       "                .geemap-dark .jupyter-button {\n",
       "                    --jp-layout-color3: #383838;\n",
       "                }\n",
       "\n",
       "                .geemap-colab {\n",
       "                    background-color: var(--colab-primary-surface-color, white);\n",
       "                }\n",
       "\n",
       "                .geemap-colab .jupyter-button {\n",
       "                    --jp-layout-color3: var(--colab-primary-surface-color, white);\n",
       "                }\n",
       "            </style>\n",
       "            "
      ],
      "text/plain": [
       "<IPython.core.display.HTML object>"
      ]
     },
     "metadata": {},
     "output_type": "display_data"
    }
   ],
   "source": [
    "dem = ee.Image('USGS/SRTMGL1_003')\n",
    "\n",
    "vis_params = {\n",
    "    'min': 0,\n",
    "    'max': 4000,\n",
    "    'palette': ['006633', 'E5FFCC', '662A00', 'D8D8D8', 'F5F5F5'],\n",
    "}\n",
    "\n",
    "map.addLayer(dem, vis_params, 'SRTM DEM', True, 1)\n"
   ]
  }
 ],
 "metadata": {
  "kernelspec": {
   "display_name": "geods",
   "language": "python",
   "name": "python3"
  },
  "language_info": {
   "codemirror_mode": {
    "name": "ipython",
    "version": 3
   },
   "file_extension": ".py",
   "mimetype": "text/x-python",
   "name": "python",
   "nbconvert_exporter": "python",
   "pygments_lexer": "ipython3",
   "version": "3.12.8"
  }
 },
 "nbformat": 4,
 "nbformat_minor": 2
}
