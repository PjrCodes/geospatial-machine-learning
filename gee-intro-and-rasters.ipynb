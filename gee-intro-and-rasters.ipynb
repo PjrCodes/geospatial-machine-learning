{
 "cells": [
  {
   "cell_type": "code",
   "execution_count": 1,
   "metadata": {},
   "outputs": [
    {
     "name": "stdout",
     "output_type": "stream",
     "text": [
      "Requirement already satisfied: geemap in /Users/anupamsobti/anaconda3/envs/geods/lib/python3.12/site-packages (0.35.1)\n",
      "Requirement already satisfied: bqplot in /Users/anupamsobti/anaconda3/envs/geods/lib/python3.12/site-packages (from geemap) (0.12.44)\n",
      "Requirement already satisfied: colour in /Users/anupamsobti/anaconda3/envs/geods/lib/python3.12/site-packages (from geemap) (0.1.5)\n",
      "Requirement already satisfied: earthengine-api>=1.0.0 in /Users/anupamsobti/anaconda3/envs/geods/lib/python3.12/site-packages (from geemap) (1.4.5)\n",
      "Requirement already satisfied: eerepr>=0.0.4 in /Users/anupamsobti/anaconda3/envs/geods/lib/python3.12/site-packages (from geemap) (0.1.0)\n",
      "Requirement already satisfied: folium>=0.17.0 in /Users/anupamsobti/anaconda3/envs/geods/lib/python3.12/site-packages (from geemap) (0.19.4)\n",
      "Requirement already satisfied: geocoder in /Users/anupamsobti/anaconda3/envs/geods/lib/python3.12/site-packages (from geemap) (1.38.1)\n",
      "Requirement already satisfied: ipyevents in /Users/anupamsobti/anaconda3/envs/geods/lib/python3.12/site-packages (from geemap) (2.0.2)\n",
      "Requirement already satisfied: ipyfilechooser>=0.6.0 in /Users/anupamsobti/anaconda3/envs/geods/lib/python3.12/site-packages (from geemap) (0.6.0)\n",
      "Requirement already satisfied: ipyleaflet>=0.19.2 in /Users/anupamsobti/anaconda3/envs/geods/lib/python3.12/site-packages (from geemap) (0.19.2)\n",
      "Requirement already satisfied: ipytree in /Users/anupamsobti/anaconda3/envs/geods/lib/python3.12/site-packages (from geemap) (0.2.2)\n",
      "Requirement already satisfied: matplotlib in /Users/anupamsobti/anaconda3/envs/geods/lib/python3.12/site-packages (from geemap) (3.10.0)\n",
      "Requirement already satisfied: numpy in /Users/anupamsobti/anaconda3/envs/geods/lib/python3.12/site-packages (from geemap) (2.2.1)\n",
      "Requirement already satisfied: pandas in /Users/anupamsobti/anaconda3/envs/geods/lib/python3.12/site-packages (from geemap) (2.2.3)\n",
      "Requirement already satisfied: plotly in /Users/anupamsobti/anaconda3/envs/geods/lib/python3.12/site-packages (from geemap) (5.24.1)\n",
      "Requirement already satisfied: pyperclip in /Users/anupamsobti/anaconda3/envs/geods/lib/python3.12/site-packages (from geemap) (1.9.0)\n",
      "Requirement already satisfied: pyshp>=2.3.1 in /Users/anupamsobti/anaconda3/envs/geods/lib/python3.12/site-packages (from geemap) (2.3.1)\n",
      "Requirement already satisfied: python-box in /Users/anupamsobti/anaconda3/envs/geods/lib/python3.12/site-packages (from geemap) (7.3.0)\n",
      "Requirement already satisfied: scooby in /Users/anupamsobti/anaconda3/envs/geods/lib/python3.12/site-packages (from geemap) (0.10.0)\n",
      "Requirement already satisfied: google-cloud-storage in /Users/anupamsobti/anaconda3/envs/geods/lib/python3.12/site-packages (from earthengine-api>=1.0.0->geemap) (2.19.0)\n",
      "Requirement already satisfied: google-api-python-client>=1.12.1 in /Users/anupamsobti/anaconda3/envs/geods/lib/python3.12/site-packages (from earthengine-api>=1.0.0->geemap) (2.159.0)\n",
      "Requirement already satisfied: google-auth>=1.4.1 in /Users/anupamsobti/anaconda3/envs/geods/lib/python3.12/site-packages (from earthengine-api>=1.0.0->geemap) (2.37.0)\n",
      "Requirement already satisfied: google-auth-httplib2>=0.0.3 in /Users/anupamsobti/anaconda3/envs/geods/lib/python3.12/site-packages (from earthengine-api>=1.0.0->geemap) (0.2.0)\n",
      "Requirement already satisfied: httplib2<1dev,>=0.9.2 in /Users/anupamsobti/anaconda3/envs/geods/lib/python3.12/site-packages (from earthengine-api>=1.0.0->geemap) (0.22.0)\n",
      "Requirement already satisfied: requests in /Users/anupamsobti/anaconda3/envs/geods/lib/python3.12/site-packages (from earthengine-api>=1.0.0->geemap) (2.32.3)\n",
      "Requirement already satisfied: branca>=0.6.0 in /Users/anupamsobti/anaconda3/envs/geods/lib/python3.12/site-packages (from folium>=0.17.0->geemap) (0.8.1)\n",
      "Requirement already satisfied: jinja2>=2.9 in /Users/anupamsobti/anaconda3/envs/geods/lib/python3.12/site-packages (from folium>=0.17.0->geemap) (3.1.5)\n",
      "Requirement already satisfied: xyzservices in /Users/anupamsobti/anaconda3/envs/geods/lib/python3.12/site-packages (from folium>=0.17.0->geemap) (2024.9.0)\n",
      "Requirement already satisfied: ipywidgets in /Users/anupamsobti/anaconda3/envs/geods/lib/python3.12/site-packages (from ipyfilechooser>=0.6.0->geemap) (8.1.5)\n",
      "Requirement already satisfied: jupyter-leaflet<0.20,>=0.19 in /Users/anupamsobti/anaconda3/envs/geods/lib/python3.12/site-packages (from ipyleaflet>=0.19.2->geemap) (0.19.2)\n",
      "Requirement already satisfied: traittypes<3,>=0.2.1 in /Users/anupamsobti/anaconda3/envs/geods/lib/python3.12/site-packages (from ipyleaflet>=0.19.2->geemap) (0.2.1)\n",
      "Requirement already satisfied: traitlets>=4.3.0 in /Users/anupamsobti/anaconda3/envs/geods/lib/python3.12/site-packages (from bqplot->geemap) (5.14.3)\n",
      "Requirement already satisfied: python-dateutil>=2.8.2 in /Users/anupamsobti/anaconda3/envs/geods/lib/python3.12/site-packages (from pandas->geemap) (2.9.0.post0)\n",
      "Requirement already satisfied: pytz>=2020.1 in /Users/anupamsobti/anaconda3/envs/geods/lib/python3.12/site-packages (from pandas->geemap) (2024.2)\n",
      "Requirement already satisfied: tzdata>=2022.7 in /Users/anupamsobti/anaconda3/envs/geods/lib/python3.12/site-packages (from pandas->geemap) (2024.2)\n",
      "Requirement already satisfied: click in /Users/anupamsobti/anaconda3/envs/geods/lib/python3.12/site-packages (from geocoder->geemap) (8.1.8)\n",
      "Requirement already satisfied: future in /Users/anupamsobti/anaconda3/envs/geods/lib/python3.12/site-packages (from geocoder->geemap) (1.0.0)\n",
      "Requirement already satisfied: ratelim in /Users/anupamsobti/anaconda3/envs/geods/lib/python3.12/site-packages (from geocoder->geemap) (0.1.6)\n",
      "Requirement already satisfied: six in /Users/anupamsobti/anaconda3/envs/geods/lib/python3.12/site-packages (from geocoder->geemap) (1.17.0)\n",
      "Requirement already satisfied: contourpy>=1.0.1 in /Users/anupamsobti/anaconda3/envs/geods/lib/python3.12/site-packages (from matplotlib->geemap) (1.3.1)\n",
      "Requirement already satisfied: cycler>=0.10 in /Users/anupamsobti/anaconda3/envs/geods/lib/python3.12/site-packages (from matplotlib->geemap) (0.12.1)\n",
      "Requirement already satisfied: fonttools>=4.22.0 in /Users/anupamsobti/anaconda3/envs/geods/lib/python3.12/site-packages (from matplotlib->geemap) (4.55.3)\n",
      "Requirement already satisfied: kiwisolver>=1.3.1 in /Users/anupamsobti/anaconda3/envs/geods/lib/python3.12/site-packages (from matplotlib->geemap) (1.4.8)\n",
      "Requirement already satisfied: packaging>=20.0 in /Users/anupamsobti/anaconda3/envs/geods/lib/python3.12/site-packages (from matplotlib->geemap) (24.2)\n",
      "Requirement already satisfied: pillow>=8 in /Users/anupamsobti/anaconda3/envs/geods/lib/python3.12/site-packages (from matplotlib->geemap) (11.1.0)\n",
      "Requirement already satisfied: pyparsing>=2.3.1 in /Users/anupamsobti/anaconda3/envs/geods/lib/python3.12/site-packages (from matplotlib->geemap) (3.2.1)\n",
      "Requirement already satisfied: tenacity>=6.2.0 in /Users/anupamsobti/anaconda3/envs/geods/lib/python3.12/site-packages (from plotly->geemap) (9.0.0)\n",
      "Requirement already satisfied: google-api-core!=2.0.*,!=2.1.*,!=2.2.*,!=2.3.0,<3.0.0.dev0,>=1.31.5 in /Users/anupamsobti/anaconda3/envs/geods/lib/python3.12/site-packages (from google-api-python-client>=1.12.1->earthengine-api>=1.0.0->geemap) (2.24.0)\n",
      "Requirement already satisfied: uritemplate<5,>=3.0.1 in /Users/anupamsobti/anaconda3/envs/geods/lib/python3.12/site-packages (from google-api-python-client>=1.12.1->earthengine-api>=1.0.0->geemap) (4.1.1)\n",
      "Requirement already satisfied: cachetools<6.0,>=2.0.0 in /Users/anupamsobti/anaconda3/envs/geods/lib/python3.12/site-packages (from google-auth>=1.4.1->earthengine-api>=1.0.0->geemap) (5.5.0)\n",
      "Requirement already satisfied: pyasn1-modules>=0.2.1 in /Users/anupamsobti/anaconda3/envs/geods/lib/python3.12/site-packages (from google-auth>=1.4.1->earthengine-api>=1.0.0->geemap) (0.4.1)\n",
      "Requirement already satisfied: rsa<5,>=3.1.4 in /Users/anupamsobti/anaconda3/envs/geods/lib/python3.12/site-packages (from google-auth>=1.4.1->earthengine-api>=1.0.0->geemap) (4.9)\n",
      "Requirement already satisfied: comm>=0.1.3 in /Users/anupamsobti/anaconda3/envs/geods/lib/python3.12/site-packages (from ipywidgets->ipyfilechooser>=0.6.0->geemap) (0.2.2)\n",
      "Requirement already satisfied: ipython>=6.1.0 in /Users/anupamsobti/anaconda3/envs/geods/lib/python3.12/site-packages (from ipywidgets->ipyfilechooser>=0.6.0->geemap) (8.31.0)\n",
      "Requirement already satisfied: widgetsnbextension~=4.0.12 in /Users/anupamsobti/anaconda3/envs/geods/lib/python3.12/site-packages (from ipywidgets->ipyfilechooser>=0.6.0->geemap) (4.0.13)\n",
      "Requirement already satisfied: jupyterlab-widgets~=3.0.12 in /Users/anupamsobti/anaconda3/envs/geods/lib/python3.12/site-packages (from ipywidgets->ipyfilechooser>=0.6.0->geemap) (3.0.13)\n",
      "Requirement already satisfied: MarkupSafe>=2.0 in /Users/anupamsobti/anaconda3/envs/geods/lib/python3.12/site-packages (from jinja2>=2.9->folium>=0.17.0->geemap) (3.0.2)\n",
      "Requirement already satisfied: google-cloud-core<3.0dev,>=2.3.0 in /Users/anupamsobti/anaconda3/envs/geods/lib/python3.12/site-packages (from google-cloud-storage->earthengine-api>=1.0.0->geemap) (2.4.1)\n",
      "Requirement already satisfied: google-resumable-media>=2.7.2 in /Users/anupamsobti/anaconda3/envs/geods/lib/python3.12/site-packages (from google-cloud-storage->earthengine-api>=1.0.0->geemap) (2.7.2)\n",
      "Requirement already satisfied: google-crc32c<2.0dev,>=1.0 in /Users/anupamsobti/anaconda3/envs/geods/lib/python3.12/site-packages (from google-cloud-storage->earthengine-api>=1.0.0->geemap) (1.6.0)\n",
      "Requirement already satisfied: charset-normalizer<4,>=2 in /Users/anupamsobti/anaconda3/envs/geods/lib/python3.12/site-packages (from requests->earthengine-api>=1.0.0->geemap) (3.4.1)\n",
      "Requirement already satisfied: idna<4,>=2.5 in /Users/anupamsobti/anaconda3/envs/geods/lib/python3.12/site-packages (from requests->earthengine-api>=1.0.0->geemap) (3.10)\n",
      "Requirement already satisfied: urllib3<3,>=1.21.1 in /Users/anupamsobti/anaconda3/envs/geods/lib/python3.12/site-packages (from requests->earthengine-api>=1.0.0->geemap) (2.3.0)\n",
      "Requirement already satisfied: certifi>=2017.4.17 in /Users/anupamsobti/anaconda3/envs/geods/lib/python3.12/site-packages (from requests->earthengine-api>=1.0.0->geemap) (2024.12.14)\n",
      "Requirement already satisfied: decorator in /Users/anupamsobti/anaconda3/envs/geods/lib/python3.12/site-packages (from ratelim->geocoder->geemap) (5.1.1)\n",
      "Requirement already satisfied: googleapis-common-protos<2.0.dev0,>=1.56.2 in /Users/anupamsobti/anaconda3/envs/geods/lib/python3.12/site-packages (from google-api-core!=2.0.*,!=2.1.*,!=2.2.*,!=2.3.0,<3.0.0.dev0,>=1.31.5->google-api-python-client>=1.12.1->earthengine-api>=1.0.0->geemap) (1.66.0)\n",
      "Requirement already satisfied: protobuf!=3.20.0,!=3.20.1,!=4.21.0,!=4.21.1,!=4.21.2,!=4.21.3,!=4.21.4,!=4.21.5,<6.0.0.dev0,>=3.19.5 in /Users/anupamsobti/anaconda3/envs/geods/lib/python3.12/site-packages (from google-api-core!=2.0.*,!=2.1.*,!=2.2.*,!=2.3.0,<3.0.0.dev0,>=1.31.5->google-api-python-client>=1.12.1->earthengine-api>=1.0.0->geemap) (5.29.3)\n",
      "Requirement already satisfied: proto-plus<2.0.0dev,>=1.22.3 in /Users/anupamsobti/anaconda3/envs/geods/lib/python3.12/site-packages (from google-api-core!=2.0.*,!=2.1.*,!=2.2.*,!=2.3.0,<3.0.0.dev0,>=1.31.5->google-api-python-client>=1.12.1->earthengine-api>=1.0.0->geemap) (1.25.0)\n",
      "Requirement already satisfied: jedi>=0.16 in /Users/anupamsobti/anaconda3/envs/geods/lib/python3.12/site-packages (from ipython>=6.1.0->ipywidgets->ipyfilechooser>=0.6.0->geemap) (0.19.2)\n",
      "Requirement already satisfied: matplotlib-inline in /Users/anupamsobti/anaconda3/envs/geods/lib/python3.12/site-packages (from ipython>=6.1.0->ipywidgets->ipyfilechooser>=0.6.0->geemap) (0.1.7)\n",
      "Requirement already satisfied: pexpect>4.3 in /Users/anupamsobti/anaconda3/envs/geods/lib/python3.12/site-packages (from ipython>=6.1.0->ipywidgets->ipyfilechooser>=0.6.0->geemap) (4.9.0)\n",
      "Requirement already satisfied: prompt_toolkit<3.1.0,>=3.0.41 in /Users/anupamsobti/anaconda3/envs/geods/lib/python3.12/site-packages (from ipython>=6.1.0->ipywidgets->ipyfilechooser>=0.6.0->geemap) (3.0.48)\n",
      "Requirement already satisfied: pygments>=2.4.0 in /Users/anupamsobti/anaconda3/envs/geods/lib/python3.12/site-packages (from ipython>=6.1.0->ipywidgets->ipyfilechooser>=0.6.0->geemap) (2.19.1)\n",
      "Requirement already satisfied: stack_data in /Users/anupamsobti/anaconda3/envs/geods/lib/python3.12/site-packages (from ipython>=6.1.0->ipywidgets->ipyfilechooser>=0.6.0->geemap) (0.6.3)\n",
      "Requirement already satisfied: pyasn1<0.7.0,>=0.4.6 in /Users/anupamsobti/anaconda3/envs/geods/lib/python3.12/site-packages (from pyasn1-modules>=0.2.1->google-auth>=1.4.1->earthengine-api>=1.0.0->geemap) (0.6.1)\n",
      "Requirement already satisfied: parso<0.9.0,>=0.8.4 in /Users/anupamsobti/anaconda3/envs/geods/lib/python3.12/site-packages (from jedi>=0.16->ipython>=6.1.0->ipywidgets->ipyfilechooser>=0.6.0->geemap) (0.8.4)\n",
      "Requirement already satisfied: ptyprocess>=0.5 in /Users/anupamsobti/anaconda3/envs/geods/lib/python3.12/site-packages (from pexpect>4.3->ipython>=6.1.0->ipywidgets->ipyfilechooser>=0.6.0->geemap) (0.7.0)\n",
      "Requirement already satisfied: wcwidth in /Users/anupamsobti/anaconda3/envs/geods/lib/python3.12/site-packages (from prompt_toolkit<3.1.0,>=3.0.41->ipython>=6.1.0->ipywidgets->ipyfilechooser>=0.6.0->geemap) (0.2.13)\n",
      "Requirement already satisfied: executing>=1.2.0 in /Users/anupamsobti/anaconda3/envs/geods/lib/python3.12/site-packages (from stack_data->ipython>=6.1.0->ipywidgets->ipyfilechooser>=0.6.0->geemap) (2.1.0)\n",
      "Requirement already satisfied: asttokens>=2.1.0 in /Users/anupamsobti/anaconda3/envs/geods/lib/python3.12/site-packages (from stack_data->ipython>=6.1.0->ipywidgets->ipyfilechooser>=0.6.0->geemap) (3.0.0)\n",
      "Requirement already satisfied: pure_eval in /Users/anupamsobti/anaconda3/envs/geods/lib/python3.12/site-packages (from stack_data->ipython>=6.1.0->ipywidgets->ipyfilechooser>=0.6.0->geemap) (0.2.3)\n"
     ]
    }
   ],
   "source": [
    "! pip install geemap"
   ]
  },
  {
   "cell_type": "code",
   "execution_count": 1,
   "metadata": {},
   "outputs": [],
   "source": [
    "import geemap"
   ]
  },
  {
   "cell_type": "code",
   "execution_count": 2,
   "metadata": {},
   "outputs": [
    {
     "data": {
      "text/html": [
       "\n",
       "            <style>\n",
       "                .geemap-dark {\n",
       "                    --jp-widgets-color: white;\n",
       "                    --jp-widgets-label-color: white;\n",
       "                    --jp-ui-font-color1: white;\n",
       "                    --jp-layout-color2: #454545;\n",
       "                    background-color: #383838;\n",
       "                }\n",
       "\n",
       "                .geemap-dark .jupyter-button {\n",
       "                    --jp-layout-color3: #383838;\n",
       "                }\n",
       "\n",
       "                .geemap-colab {\n",
       "                    background-color: var(--colab-primary-surface-color, white);\n",
       "                }\n",
       "\n",
       "                .geemap-colab .jupyter-button {\n",
       "                    --jp-layout-color3: var(--colab-primary-surface-color, white);\n",
       "                }\n",
       "            </style>\n",
       "            "
      ],
      "text/plain": [
       "<IPython.core.display.HTML object>"
      ]
     },
     "metadata": {},
     "output_type": "display_data"
    },
    {
     "data": {
      "text/html": [
       "<p>To authorize access needed by Earth Engine, open the following\n",
       "        URL in a web browser and follow the instructions:</p>\n",
       "        <p><a href=https://code.earthengine.google.com/client-auth?scopes=https%3A//www.googleapis.com/auth/earthengine%20https%3A//www.googleapis.com/auth/cloud-platform%20https%3A//www.googleapis.com/auth/devstorage.full_control&request_id=8hfJW1I3XhZ8mYxAnxWIyAzdx-pHXKKt77eX9SefNJo&tc=_K_oOtRBtkHVVgiaeAm1prbv47v7UM9tiomC-iPVA8w&cc=6h14Ijq-i_9xOy9n66fIkPQ44-Ro6Q8u9wbznMZYyK8>https://code.earthengine.google.com/client-auth?scopes=https%3A//www.googleapis.com/auth/earthengine%20https%3A//www.googleapis.com/auth/cloud-platform%20https%3A//www.googleapis.com/auth/devstorage.full_control&request_id=8hfJW1I3XhZ8mYxAnxWIyAzdx-pHXKKt77eX9SefNJo&tc=_K_oOtRBtkHVVgiaeAm1prbv47v7UM9tiomC-iPVA8w&cc=6h14Ijq-i_9xOy9n66fIkPQ44-Ro6Q8u9wbznMZYyK8</a></p>\n",
       "        <p>The authorization workflow will generate a code, which you should paste in the box below.</p>\n",
       "        "
      ],
      "text/plain": [
       "<IPython.core.display.HTML object>"
      ]
     },
     "metadata": {},
     "output_type": "display_data"
    },
    {
     "name": "stdout",
     "output_type": "stream",
     "text": [
      "\n",
      "Successfully saved authorization token.\n"
     ]
    },
    {
     "data": {
      "application/vnd.jupyter.widget-view+json": {
       "model_id": "9dddb9f02112491c84ee5c1f7868fb6e",
       "version_major": 2,
       "version_minor": 0
      },
      "text/plain": [
       "Map(center=[26.293805525369162, 77.54585509702882], controls=(WidgetControl(options=['position', 'transparent_…"
      ]
     },
     "execution_count": 2,
     "metadata": {},
     "output_type": "execute_result"
    }
   ],
   "source": [
    "map = geemap.Map(center=(26.293805525369162, 77.54585509702882), zoom=5)\n",
    "map"
   ]
  },
  {
   "cell_type": "code",
   "execution_count": 3,
   "metadata": {},
   "outputs": [
    {
     "data": {
      "text/html": [
       "\n",
       "            <style>\n",
       "                .geemap-dark {\n",
       "                    --jp-widgets-color: white;\n",
       "                    --jp-widgets-label-color: white;\n",
       "                    --jp-ui-font-color1: white;\n",
       "                    --jp-layout-color2: #454545;\n",
       "                    background-color: #383838;\n",
       "                }\n",
       "\n",
       "                .geemap-dark .jupyter-button {\n",
       "                    --jp-layout-color3: #383838;\n",
       "                }\n",
       "\n",
       "                .geemap-colab {\n",
       "                    background-color: var(--colab-primary-surface-color, white);\n",
       "                }\n",
       "\n",
       "                .geemap-colab .jupyter-button {\n",
       "                    --jp-layout-color3: var(--colab-primary-surface-color, white);\n",
       "                }\n",
       "            </style>\n",
       "            "
      ],
      "text/plain": [
       "<IPython.core.display.HTML object>"
      ]
     },
     "metadata": {},
     "output_type": "display_data"
    }
   ],
   "source": [
    "map.add_basemap('SATELLITE')\n",
    "\n",
    "#map.set_center(30.6302, 76.7248)\n",
    "#map.set_center(30.631446509381377, 76.72447156832993)\n"
   ]
  },
  {
   "cell_type": "code",
   "execution_count": 5,
   "metadata": {},
   "outputs": [
    {
     "data": {
      "text/html": [
       "\n",
       "            <style>\n",
       "                .geemap-dark {\n",
       "                    --jp-widgets-color: white;\n",
       "                    --jp-widgets-label-color: white;\n",
       "                    --jp-ui-font-color1: white;\n",
       "                    --jp-layout-color2: #454545;\n",
       "                    background-color: #383838;\n",
       "                }\n",
       "\n",
       "                .geemap-dark .jupyter-button {\n",
       "                    --jp-layout-color3: #383838;\n",
       "                }\n",
       "\n",
       "                .geemap-colab {\n",
       "                    background-color: var(--colab-primary-surface-color, white);\n",
       "                }\n",
       "\n",
       "                .geemap-colab .jupyter-button {\n",
       "                    --jp-layout-color3: var(--colab-primary-surface-color, white);\n",
       "                }\n",
       "            </style>\n",
       "            "
      ],
      "text/plain": [
       "<IPython.core.display.HTML object>"
      ]
     },
     "metadata": {},
     "output_type": "display_data"
    }
   ],
   "source": [
    "\n",
    "# Go to Plaksha\n",
    "map.set_center(76.72447156832993, 30.631446509381377 , zoom=16)\n",
    "#map.set_center(76.7248, 30.6302)\n",
    "#map.set_zoom(8)"
   ]
  },
  {
   "cell_type": "code",
   "execution_count": 4,
   "metadata": {},
   "outputs": [
    {
     "data": {
      "text/html": [
       "\n",
       "            <style>\n",
       "                .geemap-dark {\n",
       "                    --jp-widgets-color: white;\n",
       "                    --jp-widgets-label-color: white;\n",
       "                    --jp-ui-font-color1: white;\n",
       "                    --jp-layout-color2: #454545;\n",
       "                    background-color: #383838;\n",
       "                }\n",
       "\n",
       "                .geemap-dark .jupyter-button {\n",
       "                    --jp-layout-color3: #383838;\n",
       "                }\n",
       "\n",
       "                .geemap-colab {\n",
       "                    background-color: var(--colab-primary-surface-color, white);\n",
       "                }\n",
       "\n",
       "                .geemap-colab .jupyter-button {\n",
       "                    --jp-layout-color3: var(--colab-primary-surface-color, white);\n",
       "                }\n",
       "            </style>\n",
       "            "
      ],
      "text/plain": [
       "<IPython.core.display.HTML object>"
      ]
     },
     "metadata": {},
     "output_type": "display_data"
    },
    {
     "name": "stdout",
     "output_type": "stream",
     "text": [
      "OpenStreetMap\n",
      "Esri.WorldStreetMap\n",
      "Esri.WorldImagery\n",
      "Esri.WorldTopoMap\n",
      "FWS NWI Wetlands\n",
      "FWS NWI Wetlands Raster\n",
      "NLCD 2021 CONUS Land Cover\n",
      "NLCD 2019 CONUS Land Cover\n",
      "NLCD 2016 CONUS Land Cover\n",
      "NLCD 2013 CONUS Land Cover\n",
      "NLCD 2011 CONUS Land Cover\n",
      "NLCD 2008 CONUS Land Cover\n",
      "NLCD 2006 CONUS Land Cover\n",
      "NLCD 2004 CONUS Land Cover\n",
      "NLCD 2001 CONUS Land Cover\n",
      "USGS NAIP Imagery\n",
      "USGS NAIP Imagery False Color\n",
      "USGS NAIP Imagery NDVI\n",
      "USGS Hydrography\n",
      "USGS 3DEP Elevation\n",
      "ESA Worldcover 2020\n",
      "ESA Worldcover 2020 S2 FCC\n",
      "ESA Worldcover 2020 S2 TCC\n",
      "ESA Worldcover 2021\n",
      "ESA Worldcover 2021 S2 FCC\n",
      "ESA Worldcover 2021 S2 TCC\n",
      "BaseMapDE.Color\n",
      "BaseMapDE.Grey\n",
      "BasemapAT.basemap\n",
      "BasemapAT.grau\n",
      "BasemapAT.highdpi\n",
      "BasemapAT.orthofoto\n",
      "BasemapAT.overlay\n",
      "BasemapAT.surface\n",
      "BasemapAT.terrain\n",
      "CartoDB.DarkMatter\n",
      "CartoDB.DarkMatterNoLabels\n",
      "CartoDB.DarkMatterOnlyLabels\n",
      "CartoDB.Positron\n",
      "CartoDB.PositronNoLabels\n",
      "CartoDB.PositronOnlyLabels\n",
      "CartoDB.Voyager\n",
      "CartoDB.VoyagerLabelsUnder\n",
      "CartoDB.VoyagerNoLabels\n",
      "CartoDB.VoyagerOnlyLabels\n",
      "CyclOSM\n",
      "Esri.AntarcticBasemap\n",
      "Esri.AntarcticImagery\n",
      "Esri.ArcticImagery\n",
      "Esri.ArcticOceanBase\n",
      "Esri.ArcticOceanReference\n",
      "Esri.NatGeoWorldMap\n",
      "Esri.OceanBasemap\n",
      "Esri.WorldGrayCanvas\n",
      "Esri.WorldPhysical\n",
      "Esri.WorldShadedRelief\n",
      "Esri.WorldTerrain\n",
      "FreeMapSK\n",
      "Gaode.Normal\n",
      "Gaode.Satellite\n",
      "HikeBike.HikeBike\n",
      "HikeBike.HillShading\n",
      "JusticeMap.americanIndian\n",
      "JusticeMap.asian\n",
      "JusticeMap.black\n",
      "JusticeMap.hispanic\n",
      "JusticeMap.income\n",
      "JusticeMap.multi\n",
      "JusticeMap.nonWhite\n",
      "JusticeMap.plurality\n",
      "JusticeMap.white\n",
      "MtbMap\n",
      "NASAGIBS.ASTER_GDEM_Greyscale_Shaded_Relief\n",
      "NASAGIBS.BlueMarble\n",
      "NASAGIBS.BlueMarble3031\n",
      "NASAGIBS.BlueMarble3413\n",
      "NASAGIBS.BlueMarbleBathymetry3031\n",
      "NASAGIBS.BlueMarbleBathymetry3413\n",
      "NASAGIBS.MEaSUREsIceVelocity3031\n",
      "NASAGIBS.MEaSUREsIceVelocity3413\n",
      "NASAGIBS.ModisAquaBands721CR\n",
      "NASAGIBS.ModisAquaTrueColorCR\n",
      "NASAGIBS.ModisTerraAOD\n",
      "NASAGIBS.ModisTerraBands367CR\n",
      "NASAGIBS.ModisTerraBands721CR\n",
      "NASAGIBS.ModisTerraChlorophyll\n",
      "NASAGIBS.ModisTerraLSTDay\n",
      "NASAGIBS.ModisTerraSnowCover\n",
      "NASAGIBS.ModisTerraTrueColorCR\n",
      "NASAGIBS.ViirsEarthAtNight2012\n",
      "NASAGIBS.ViirsTrueColorCR\n",
      "OPNVKarte\n",
      "OneMapSG.Default\n",
      "OneMapSG.Grey\n",
      "OneMapSG.LandLot\n",
      "OneMapSG.Night\n",
      "OneMapSG.Original\n",
      "OpenAIP\n",
      "OpenFireMap\n",
      "OpenRailwayMap\n",
      "OpenSeaMap\n",
      "OpenSnowMap.pistes\n",
      "OpenStreetMap.BZH\n",
      "OpenStreetMap.BlackAndWhite\n",
      "OpenStreetMap.CH\n",
      "OpenStreetMap.DE\n",
      "OpenStreetMap.HOT\n",
      "OpenStreetMap.Mapnik\n",
      "OpenTopoMap\n",
      "SafeCast\n",
      "Stadia.AlidadeSatellite\n",
      "Stadia.AlidadeSmooth\n",
      "Stadia.AlidadeSmoothDark\n",
      "Stadia.OSMBright\n",
      "Stadia.Outdoors\n",
      "Stadia.StamenTerrain\n",
      "Stadia.StamenTerrainBackground\n",
      "Stadia.StamenTerrainLabels\n",
      "Stadia.StamenTerrainLines\n",
      "Stadia.StamenToner\n",
      "Stadia.StamenTonerBackground\n",
      "Stadia.StamenTonerLabels\n",
      "Stadia.StamenTonerLines\n",
      "Stadia.StamenTonerLite\n",
      "Stadia.StamenWatercolor\n",
      "Strava.All\n",
      "Strava.Ride\n",
      "Strava.Run\n",
      "Strava.Water\n",
      "Strava.Winter\n",
      "SwissFederalGeoportal.JourneyThroughTime\n",
      "SwissFederalGeoportal.NationalMapColor\n",
      "SwissFederalGeoportal.NationalMapGrey\n",
      "SwissFederalGeoportal.SWISSIMAGE\n",
      "TopPlusOpen.Color\n",
      "TopPlusOpen.Grey\n",
      "USGS.USImagery\n",
      "USGS.USImageryTopo\n",
      "USGS.USTopo\n",
      "WaymarkedTrails.cycling\n",
      "WaymarkedTrails.hiking\n",
      "WaymarkedTrails.mtb\n",
      "WaymarkedTrails.riding\n",
      "WaymarkedTrails.skating\n",
      "WaymarkedTrails.slopes\n",
      "nlmaps.grijs\n",
      "nlmaps.luchtfoto\n",
      "nlmaps.pastel\n",
      "nlmaps.standaard\n",
      "nlmaps.water\n"
     ]
    }
   ],
   "source": [
    "basemaps = geemap.basemaps\n",
    "\n",
    "for basemap in basemaps:\n",
    "    print(basemap)"
   ]
  },
  {
   "cell_type": "code",
   "execution_count": 6,
   "metadata": {},
   "outputs": [
    {
     "data": {
      "text/html": [
       "\n",
       "            <style>\n",
       "                .geemap-dark {\n",
       "                    --jp-widgets-color: white;\n",
       "                    --jp-widgets-label-color: white;\n",
       "                    --jp-ui-font-color1: white;\n",
       "                    --jp-layout-color2: #454545;\n",
       "                    background-color: #383838;\n",
       "                }\n",
       "\n",
       "                .geemap-dark .jupyter-button {\n",
       "                    --jp-layout-color3: #383838;\n",
       "                }\n",
       "\n",
       "                .geemap-colab {\n",
       "                    background-color: var(--colab-primary-surface-color, white);\n",
       "                }\n",
       "\n",
       "                .geemap-colab .jupyter-button {\n",
       "                    --jp-layout-color3: var(--colab-primary-surface-color, white);\n",
       "                }\n",
       "            </style>\n",
       "            "
      ],
      "text/plain": [
       "<IPython.core.display.HTML object>"
      ]
     },
     "metadata": {},
     "output_type": "display_data"
    }
   ],
   "source": [
    "# Add the hybrid layer (satellite + labels)\n",
    "map.add_tile_layer(\n",
    "    url=\"http://mt1.google.com/vt/lyrs=s,h&x={x}&y={y}&z={z}\",\n",
    "    name=\"Google Hybrid\",\n",
    "    attribution=\"Google\"\n",
    ")\n"
   ]
  },
  {
   "cell_type": "code",
   "execution_count": 7,
   "metadata": {},
   "outputs": [
    {
     "data": {
      "text/html": [
       "\n",
       "            <style>\n",
       "                .geemap-dark {\n",
       "                    --jp-widgets-color: white;\n",
       "                    --jp-widgets-label-color: white;\n",
       "                    --jp-ui-font-color1: white;\n",
       "                    --jp-layout-color2: #454545;\n",
       "                    background-color: #383838;\n",
       "                }\n",
       "\n",
       "                .geemap-dark .jupyter-button {\n",
       "                    --jp-layout-color3: #383838;\n",
       "                }\n",
       "\n",
       "                .geemap-colab {\n",
       "                    background-color: var(--colab-primary-surface-color, white);\n",
       "                }\n",
       "\n",
       "                .geemap-colab .jupyter-button {\n",
       "                    --jp-layout-color3: var(--colab-primary-surface-color, white);\n",
       "                }\n",
       "            </style>\n",
       "            "
      ],
      "text/plain": [
       "<IPython.core.display.HTML object>"
      ]
     },
     "metadata": {},
     "output_type": "display_data"
    }
   ],
   "source": [
    "import ee\n",
    "#import geemap.core as geemap"
   ]
  },
  {
   "cell_type": "markdown",
   "metadata": {},
   "source": [
    "Let us now try to retreive and visualize the satellite imagery for LandSat around the Plaksha region. Here's the Earth Engine Catalog [link](https://developers.google.com/earth-engine/datasets/catalog/LANDSAT_LC08_C02_T1_L2?hl=en#colab-python). Notice the cool roof on Infosys building."
   ]
  },
  {
   "cell_type": "code",
   "execution_count": 8,
   "metadata": {},
   "outputs": [
    {
     "data": {
      "text/html": [
       "\n",
       "            <style>\n",
       "                .geemap-dark {\n",
       "                    --jp-widgets-color: white;\n",
       "                    --jp-widgets-label-color: white;\n",
       "                    --jp-ui-font-color1: white;\n",
       "                    --jp-layout-color2: #454545;\n",
       "                    background-color: #383838;\n",
       "                }\n",
       "\n",
       "                .geemap-dark .jupyter-button {\n",
       "                    --jp-layout-color3: #383838;\n",
       "                }\n",
       "\n",
       "                .geemap-colab {\n",
       "                    background-color: var(--colab-primary-surface-color, white);\n",
       "                }\n",
       "\n",
       "                .geemap-colab .jupyter-button {\n",
       "                    --jp-layout-color3: var(--colab-primary-surface-color, white);\n",
       "                }\n",
       "            </style>\n",
       "            "
      ],
      "text/plain": [
       "<IPython.core.display.HTML object>"
      ]
     },
     "metadata": {},
     "output_type": "display_data"
    }
   ],
   "source": [
    "dataset = ee.ImageCollection('LANDSAT/LC08/C02/T1_L2').filterDate(\n",
    "    '2021-05-01', '2021-06-01'\n",
    ")\n",
    "\n",
    "\n",
    "# Applies scaling factors.\n",
    "def apply_scale_factors(image):\n",
    "  optical_bands = image.select('SR_B.').multiply(0.0000275).add(-0.2)\n",
    "  thermal_bands = image.select('ST_B.*').multiply(0.00341802).add(149.0)\n",
    "  return image.addBands(optical_bands, None, True).addBands(\n",
    "      thermal_bands, None, True\n",
    "  )\n",
    "\n",
    "\n",
    "dataset = dataset.map(apply_scale_factors)\n",
    "\n",
    "visualization = {\n",
    "    'bands': ['SR_B4', 'SR_B3', 'SR_B2'],\n",
    "    'min': 0.0,\n",
    "    'max': 0.3,\n",
    "}\n",
    "\n",
    "map.add_layer(dataset, visualization, 'Land Surface Temperature')\n"
   ]
  },
  {
   "cell_type": "markdown",
   "metadata": {},
   "source": [
    "This is great but probably a few too many pixels. What's the latest real-time medium resolution image we can get? Sentinel 2. Let's try to retreive this."
   ]
  },
  {
   "cell_type": "code",
   "execution_count": 9,
   "metadata": {},
   "outputs": [
    {
     "data": {
      "text/html": [
       "\n",
       "            <style>\n",
       "                .geemap-dark {\n",
       "                    --jp-widgets-color: white;\n",
       "                    --jp-widgets-label-color: white;\n",
       "                    --jp-ui-font-color1: white;\n",
       "                    --jp-layout-color2: #454545;\n",
       "                    background-color: #383838;\n",
       "                }\n",
       "\n",
       "                .geemap-dark .jupyter-button {\n",
       "                    --jp-layout-color3: #383838;\n",
       "                }\n",
       "\n",
       "                .geemap-colab {\n",
       "                    background-color: var(--colab-primary-surface-color, white);\n",
       "                }\n",
       "\n",
       "                .geemap-colab .jupyter-button {\n",
       "                    --jp-layout-color3: var(--colab-primary-surface-color, white);\n",
       "                }\n",
       "            </style>\n",
       "            "
      ],
      "text/plain": [
       "<IPython.core.display.HTML object>"
      ]
     },
     "metadata": {},
     "output_type": "display_data"
    }
   ],
   "source": [
    "def mask_s2_clouds(image):\n",
    "  \"\"\"Masks clouds in a Sentinel-2 image using the QA band.\n",
    "\n",
    "  Args:\n",
    "      image (ee.Image): A Sentinel-2 image.\n",
    "\n",
    "  Returns:\n",
    "      ee.Image: A cloud-masked Sentinel-2 image.\n",
    "  \"\"\"\n",
    "  qa = image.select('QA60')\n",
    "\n",
    "  # Bits 10 and 11 are clouds and cirrus, respectively.\n",
    "  cloud_bit_mask = 1 << 10\n",
    "  cirrus_bit_mask = 1 << 11\n",
    "\n",
    "  # Both flags should be set to zero, indicating clear conditions.\n",
    "  mask = (\n",
    "      qa.bitwiseAnd(cloud_bit_mask)\n",
    "      .eq(0)\n",
    "      .And(qa.bitwiseAnd(cirrus_bit_mask).eq(0))\n",
    "  )\n",
    "\n",
    "  return image.updateMask(mask).divide(10000)\n",
    "\n",
    "\n",
    "dataset = (\n",
    "    ee.ImageCollection('COPERNICUS/S2_SR_HARMONIZED')\n",
    "    .filterDate('2025-01-01', '2025-01-30')\n",
    "    # Pre-filter to get less cloudy granules.\n",
    "    .filter(ee.Filter.lt('CLOUDY_PIXEL_PERCENTAGE', 20))\n",
    "    .map(mask_s2_clouds)\n",
    ")\n",
    "\n",
    "visualization = {\n",
    "    'min': 0.0,\n",
    "    'max': 0.3,\n",
    "    'bands': ['B4', 'B3', 'B2'],\n",
    "}\n",
    "\n",
    "map.add_layer(dataset.mean(), visualization, 'RGB')"
   ]
  },
  {
   "cell_type": "code",
   "execution_count": 10,
   "metadata": {},
   "outputs": [
    {
     "data": {
      "text/html": [
       "\n",
       "            <style>\n",
       "                .geemap-dark {\n",
       "                    --jp-widgets-color: white;\n",
       "                    --jp-widgets-label-color: white;\n",
       "                    --jp-ui-font-color1: white;\n",
       "                    --jp-layout-color2: #454545;\n",
       "                    background-color: #383838;\n",
       "                }\n",
       "\n",
       "                .geemap-dark .jupyter-button {\n",
       "                    --jp-layout-color3: #383838;\n",
       "                }\n",
       "\n",
       "                .geemap-colab {\n",
       "                    background-color: var(--colab-primary-surface-color, white);\n",
       "                }\n",
       "\n",
       "                .geemap-colab .jupyter-button {\n",
       "                    --jp-layout-color3: var(--colab-primary-surface-color, white);\n",
       "                }\n",
       "            </style>\n",
       "            "
      ],
      "text/plain": [
       "<IPython.core.display.HTML object>"
      ]
     },
     "metadata": {},
     "output_type": "display_data"
    }
   ],
   "source": [
    "import geopandas as gpd\n",
    "import geemap\n",
    "import json\n",
    "\n",
    "# Load the shapefile\n",
    "shapefile = 'data/potential-construction.shp'\n",
    "gdf = gpd.read_file(shapefile)\n",
    "\n",
    "# Convert the GeoDataFrame to GeoJSON format\n",
    "geojson = gdf.to_json()\n",
    "\n",
    "# Parse the GeoJSON string to a dictionary\n",
    "geojson_dict = json.loads(geojson)\n",
    "\n",
    "# Convert the GeoJSON to an Earth Engine object\n",
    "ee_object = geemap.geojson_to_ee(geojson_dict)\n",
    "\n",
    "# Add the EE object to the map\n",
    "map.addLayer(ee_object, {}, 'Potential Construction Sites')\n"
   ]
  },
  {
   "cell_type": "code",
   "execution_count": 13,
   "metadata": {},
   "outputs": [
    {
     "data": {
      "text/html": [
       "\n",
       "            <style>\n",
       "                .geemap-dark {\n",
       "                    --jp-widgets-color: white;\n",
       "                    --jp-widgets-label-color: white;\n",
       "                    --jp-ui-font-color1: white;\n",
       "                    --jp-layout-color2: #454545;\n",
       "                    background-color: #383838;\n",
       "                }\n",
       "\n",
       "                .geemap-dark .jupyter-button {\n",
       "                    --jp-layout-color3: #383838;\n",
       "                }\n",
       "\n",
       "                .geemap-colab {\n",
       "                    background-color: var(--colab-primary-surface-color, white);\n",
       "                }\n",
       "\n",
       "                .geemap-colab .jupyter-button {\n",
       "                    --jp-layout-color3: var(--colab-primary-surface-color, white);\n",
       "                }\n",
       "            </style>\n",
       "            "
      ],
      "text/plain": [
       "<IPython.core.display.HTML object>"
      ]
     },
     "metadata": {},
     "output_type": "display_data"
    }
   ],
   "source": [
    "dem = ee.Image('USGS/SRTMGL1_003')\n",
    "\n",
    "vis_params = {\n",
    "    'min': 0,\n",
    "    'max': 4000,\n",
    "    'palette': ['006633', 'E5FFCC', '662A00', 'D8D8D8', 'F5F5F5'],\n",
    "}\n",
    "\n",
    "map.addLayer(dem, vis_params, 'SRTM DEM', True, 1)\n"
   ]
  },
  {
   "cell_type": "code",
   "execution_count": 14,
   "metadata": {},
   "outputs": [
    {
     "data": {
      "text/html": [
       "\n",
       "            <style>\n",
       "                .geemap-dark {\n",
       "                    --jp-widgets-color: white;\n",
       "                    --jp-widgets-label-color: white;\n",
       "                    --jp-ui-font-color1: white;\n",
       "                    --jp-layout-color2: #454545;\n",
       "                    background-color: #383838;\n",
       "                }\n",
       "\n",
       "                .geemap-dark .jupyter-button {\n",
       "                    --jp-layout-color3: #383838;\n",
       "                }\n",
       "\n",
       "                .geemap-colab {\n",
       "                    background-color: var(--colab-primary-surface-color, white);\n",
       "                }\n",
       "\n",
       "                .geemap-colab .jupyter-button {\n",
       "                    --jp-layout-color3: var(--colab-primary-surface-color, white);\n",
       "                }\n",
       "            </style>\n",
       "            "
      ],
      "text/plain": [
       "<IPython.core.display.HTML object>"
      ]
     },
     "metadata": {},
     "output_type": "display_data"
    }
   ],
   "source": [
    "import ee\n",
    "from datetime import datetime,timedelta\n",
    "\n",
    "# Convert the shapefile geometry to GeoJSON\n",
    "aoi_geojson = gdf.geometry.iloc[0].__geo_interface__\n",
    "\n",
    "# Create an Earth Engine geometry from the GeoJSON\n",
    "aoi = ee.Geometry(aoi_geojson)\n",
    "\n",
    "# Define the Sentinel-2 image collection\n",
    "sentinel2 = ee.ImageCollection(\"COPERNICUS/S2_HARMONIZED\").filterBounds(aoi)  # Use the AOI from the shapefile\n",
    "\n",
    "# Function to calculate NDVI for the image collection\n",
    "def calculate_ndvi(image):\n",
    "    ndvi = image.normalizedDifference(['B8', 'B4']).rename('NDVI')  # Calculate NDVI\n",
    "    return image.addBands(ndvi)  # Add NDVI band to the image\n",
    "\n",
    "# Function to add monthly NDVI to the map\n",
    "def add_monthly_ndvi(year, month):\n",
    "    start_date = f\"{year}-{month:02d}-01\"\n",
    "    end_date = f\"{year}-{month:02d}-{(datetime(year, month, 1) + timedelta(days=31)).replace(day=1) - timedelta(days=1):%d}\"\n",
    "    monthly_images = sentinel2.filterDate(start_date, end_date).map(calculate_ndvi)\n",
    "    monthly_ndvi_median = monthly_images.select('NDVI').median().clip(aoi)\n",
    "    ndvi_vis_params = {\n",
    "        'min': 0,\n",
    "        'max': 1,\n",
    "        'palette': ['red', 'green']  # NDVI color palette with red for low and green for high\n",
    "    }\n",
    "    map.addLayer(monthly_ndvi_median, ndvi_vis_params, f'NDVI {year}-{month:02d}')\n",
    "\n",
    "# Iterate over each month in 2024\n",
    "for month in range(1, 13):\n",
    "    add_monthly_ndvi(2024, month)\n"
   ]
  },
  {
   "cell_type": "code",
   "execution_count": 14,
   "metadata": {},
   "outputs": [
    {
     "data": {
      "text/html": [
       "\n",
       "            <style>\n",
       "                .geemap-dark {\n",
       "                    --jp-widgets-color: white;\n",
       "                    --jp-widgets-label-color: white;\n",
       "                    --jp-ui-font-color1: white;\n",
       "                    --jp-layout-color2: #454545;\n",
       "                    background-color: #383838;\n",
       "                }\n",
       "\n",
       "                .geemap-dark .jupyter-button {\n",
       "                    --jp-layout-color3: #383838;\n",
       "                }\n",
       "\n",
       "                .geemap-colab {\n",
       "                    background-color: var(--colab-primary-surface-color, white);\n",
       "                }\n",
       "\n",
       "                .geemap-colab .jupyter-button {\n",
       "                    --jp-layout-color3: var(--colab-primary-surface-color, white);\n",
       "                }\n",
       "            </style>\n",
       "            "
      ],
      "text/plain": [
       "<IPython.core.display.HTML object>"
      ]
     },
     "metadata": {},
     "output_type": "display_data"
    },
    {
     "data": {
      "image/png": "[encoded data removed]",
      "text/plain": [
       "<Figure size 1000x600 with 1 Axes>"
      ]
     },
     "metadata": {},
     "output_type": "display_data"
    }
   ],
   "source": [
    "\n",
    "import ee\n",
    "import pandas as pd\n",
    "import matplotlib.pyplot as plt\n",
    "\n",
    "# Add NDVI to each image in the collection\n",
    "sentinel2_with_ndvi = sentinel2.map(calculate_ndvi)\n",
    "\n",
    "# Function to calculate monthly NDVI mean for AOI\n",
    "def calculate_monthly_ndvi(year, month):\n",
    "    start_date = ee.Date.fromYMD(year, month, 1)\n",
    "    end_date = start_date.advance(1, 'month')\n",
    "    monthly_ndvi = sentinel2_with_ndvi.filterDate(start_date, end_date) \\\n",
    "        .select('NDVI') \\\n",
    "        .mean() \\\n",
    "        .reduceRegion(\n",
    "            reducer=ee.Reducer.mean(),\n",
    "            geometry=aoi,\n",
    "            scale=10\n",
    "        )\n",
    "    return ee.Dictionary({\n",
    "        'month': month,\n",
    "        'ndvi': monthly_ndvi.get('NDVI')\n",
    "    })\n",
    "\n",
    "# Generate a list of months\n",
    "months = list(range(1, 13))\n",
    "\n",
    "# Calculate monthly NDVI for each month\n",
    "monthly_ndvi = ee.List([calculate_monthly_ndvi(2024, month) for month in months])\n",
    "\n",
    "# Get the results as a list of dictionaries\n",
    "monthly_ndvi_values = monthly_ndvi.getInfo()\n",
    "\n",
    "# Convert the results to a DataFrame\n",
    "df = pd.DataFrame(monthly_ndvi_values)\n",
    "\n",
    "# Plot the NDVI time series\n",
    "plt.figure(figsize=(10, 6))\n",
    "plt.plot(df['month'], df['ndvi'], marker='o', linestyle='-', color='green')\n",
    "plt.title(\"Monthly NDVI Time Series (2024)\")\n",
    "plt.xlabel(\"Month\")\n",
    "plt.ylabel(\"NDVI\")\n",
    "plt.xticks(ticks=months)\n",
    "plt.grid(True)\n",
    "plt.show()\n"
   ]
  },
  {
   "cell_type": "markdown",
   "metadata": {},
   "source": [
    "Now, let's try an alternate method of finding the same NDVI but using downloaded tiles from the AOI and then local operations. Note that not all operations you need would be present on Google Earth Engine."
   ]
  },
  {
   "cell_type": "code",
   "execution_count": 18,
   "metadata": {},
   "outputs": [
    {
     "data": {
      "text/html": [
       "\n",
       "            <style>\n",
       "                .geemap-dark {\n",
       "                    --jp-widgets-color: white;\n",
       "                    --jp-widgets-label-color: white;\n",
       "                    --jp-ui-font-color1: white;\n",
       "                    --jp-layout-color2: #454545;\n",
       "                    background-color: #383838;\n",
       "                }\n",
       "\n",
       "                .geemap-dark .jupyter-button {\n",
       "                    --jp-layout-color3: #383838;\n",
       "                }\n",
       "\n",
       "                .geemap-colab {\n",
       "                    background-color: var(--colab-primary-surface-color, white);\n",
       "                }\n",
       "\n",
       "                .geemap-colab .jupyter-button {\n",
       "                    --jp-layout-color3: var(--colab-primary-surface-color, white);\n",
       "                }\n",
       "            </style>\n",
       "            "
      ],
      "text/plain": [
       "<IPython.core.display.HTML object>"
      ]
     },
     "metadata": {},
     "output_type": "display_data"
    },
    {
     "name": "stdout",
     "output_type": "stream",
     "text": [
      "https://earthengine.googleapis.com/v1/projects/459426240313/thumbnails/ae0f8f646bcaa55b867120815acca402-9edd3225b5b252abbc9df3551092c5e0:getPixels\n"
     ]
    }
   ],
   "source": [
    "aoi_tif = ee.Image(ee.ImageCollection('COPERNICUS/S2_HARMONIZED')\n",
    "                   .filterBounds(aoi)\n",
    "                   .first()\n",
    "                   ).clip(aoi).getDownloadUrl({\n",
    "                       'scale': 10,\n",
    "                       'crs': 'EPSG:4326',\n",
    "                       'region': aoi\n",
    "                   })\n",
    "\n",
    "print(aoi_tif)\n",
    "\n",
    "import requests\n",
    "response = requests.get(aoi_tif)\n",
    "with open('aoi_tif.zip', 'wb') as f:\n",
    "    f.write(response.content)\n",
    "\n"
   ]
  },
  {
   "cell_type": "markdown",
   "metadata": {},
   "source": [
    "What did we just download? Let's see in QGIS.\n"
   ]
  },
  {
   "cell_type": "code",
   "execution_count": 19,
   "metadata": {},
   "outputs": [
    {
     "data": {
      "text/html": [
       "\n",
       "            <style>\n",
       "                .geemap-dark {\n",
       "                    --jp-widgets-color: white;\n",
       "                    --jp-widgets-label-color: white;\n",
       "                    --jp-ui-font-color1: white;\n",
       "                    --jp-layout-color2: #454545;\n",
       "                    background-color: #383838;\n",
       "                }\n",
       "\n",
       "                .geemap-dark .jupyter-button {\n",
       "                    --jp-layout-color3: #383838;\n",
       "                }\n",
       "\n",
       "                .geemap-colab {\n",
       "                    background-color: var(--colab-primary-surface-color, white);\n",
       "                }\n",
       "\n",
       "                .geemap-colab .jupyter-button {\n",
       "                    --jp-layout-color3: var(--colab-primary-surface-color, white);\n",
       "                }\n",
       "            </style>\n",
       "            "
      ],
      "text/plain": [
       "<IPython.core.display.HTML object>"
      ]
     },
     "metadata": {},
     "output_type": "display_data"
    },
    {
     "name": "stdout",
     "output_type": "stream",
     "text": [
      "Archive:  aoi_tif.zip\n",
      " extracting: data/20151207T053212_20151207T053215_T43RFP.B1.tif  \n",
      " extracting: data/20151207T053212_20151207T053215_T43RFP.B2.tif  \n",
      " extracting: data/20151207T053212_20151207T053215_T43RFP.B3.tif  \n",
      " extracting: data/20151207T053212_20151207T053215_T43RFP.B4.tif  \n",
      " extracting: data/20151207T053212_20151207T053215_T43RFP.B5.tif  \n",
      " extracting: data/20151207T053212_20151207T053215_T43RFP.B6.tif  \n",
      " extracting: data/20151207T053212_20151207T053215_T43RFP.B7.tif  \n",
      " extracting: data/20151207T053212_20151207T053215_T43RFP.B8.tif  \n",
      " extracting: data/20151207T053212_20151207T053215_T43RFP.B8A.tif  \n",
      " extracting: data/20151207T053212_20151207T053215_T43RFP.B9.tif  \n",
      " extracting: data/20151207T053212_20151207T053215_T43RFP.B10.tif  \n",
      " extracting: data/20151207T053212_20151207T053215_T43RFP.B11.tif  \n",
      " extracting: data/20151207T053212_20151207T053215_T43RFP.B12.tif  \n",
      " extracting: data/20151207T053212_20151207T053215_T43RFP.QA10.tif  \n",
      " extracting: data/20151207T053212_20151207T053215_T43RFP.QA20.tif  \n",
      " extracting: data/20151207T053212_20151207T053215_T43RFP.QA60.tif  \n",
      " extracting: data/20151207T053212_20151207T053215_T43RFP.MSK_CLASSI_OPAQUE.tif  \n",
      " extracting: data/20151207T053212_20151207T053215_T43RFP.MSK_CLASSI_CIRRUS.tif  \n",
      " extracting: data/20151207T053212_20151207T053215_T43RFP.MSK_CLASSI_SNOW_ICE.tif  \n"
     ]
    }
   ],
   "source": [
    "! unzip aoi_tif.zip -d data/\n"
   ]
  },
  {
   "cell_type": "code",
   "execution_count": 20,
   "metadata": {},
   "outputs": [
    {
     "data": {
      "text/html": [
       "\n",
       "            <style>\n",
       "                .geemap-dark {\n",
       "                    --jp-widgets-color: white;\n",
       "                    --jp-widgets-label-color: white;\n",
       "                    --jp-ui-font-color1: white;\n",
       "                    --jp-layout-color2: #454545;\n",
       "                    background-color: #383838;\n",
       "                }\n",
       "\n",
       "                .geemap-dark .jupyter-button {\n",
       "                    --jp-layout-color3: #383838;\n",
       "                }\n",
       "\n",
       "                .geemap-colab {\n",
       "                    background-color: var(--colab-primary-surface-color, white);\n",
       "                }\n",
       "\n",
       "                .geemap-colab .jupyter-button {\n",
       "                    --jp-layout-color3: var(--colab-primary-surface-color, white);\n",
       "                }\n",
       "            </style>\n",
       "            "
      ],
      "text/plain": [
       "<IPython.core.display.HTML object>"
      ]
     },
     "metadata": {},
     "output_type": "display_data"
    },
    {
     "name": "stdout",
     "output_type": "stream",
     "text": [
      "Collecting rasterio\n",
      "  Downloading rasterio-1.4.3-cp312-cp312-macosx_14_0_arm64.whl.metadata (9.1 kB)\n",
      "Collecting affine (from rasterio)\n",
      "  Using cached affine-2.4.0-py3-none-any.whl.metadata (4.0 kB)\n",
      "Requirement already satisfied: attrs in /Users/anupamsobti/anaconda3/envs/geods/lib/python3.12/site-packages (from rasterio) (24.3.0)\n",
      "Requirement already satisfied: certifi in /Users/anupamsobti/anaconda3/envs/geods/lib/python3.12/site-packages (from rasterio) (2024.12.14)\n",
      "Requirement already satisfied: click>=4.0 in /Users/anupamsobti/anaconda3/envs/geods/lib/python3.12/site-packages (from rasterio) (8.1.8)\n",
      "Collecting cligj>=0.5 (from rasterio)\n",
      "  Using cached cligj-0.7.2-py3-none-any.whl.metadata (5.0 kB)\n",
      "Requirement already satisfied: numpy>=1.24 in /Users/anupamsobti/anaconda3/envs/geods/lib/python3.12/site-packages (from rasterio) (2.2.1)\n",
      "Collecting click-plugins (from rasterio)\n",
      "  Using cached click_plugins-1.1.1-py2.py3-none-any.whl.metadata (6.4 kB)\n",
      "Requirement already satisfied: pyparsing in /Users/anupamsobti/anaconda3/envs/geods/lib/python3.12/site-packages (from rasterio) (3.2.1)\n",
      "Downloading rasterio-1.4.3-cp312-cp312-macosx_14_0_arm64.whl (18.7 MB)\n",
      "\u001b[2K   \u001b[90m━━━━━━━━━━━━━━━━━━━━━━━━━━━━━━━━━━━━━━━━\u001b[0m \u001b[32m18.7/18.7 MB\u001b[0m \u001b[31m5.8 MB/s\u001b[0m eta \u001b[36m0:00:00\u001b[0ma \u001b[36m0:00:01\u001b[0m\n",
      "\u001b[?25hUsing cached cligj-0.7.2-py3-none-any.whl (7.1 kB)\n",
      "Using cached affine-2.4.0-py3-none-any.whl (15 kB)\n",
      "Using cached click_plugins-1.1.1-py2.py3-none-any.whl (7.5 kB)\n",
      "Installing collected packages: cligj, click-plugins, affine, rasterio\n",
      "Successfully installed affine-2.4.0 click-plugins-1.1.1 cligj-0.7.2 rasterio-1.4.3\n"
     ]
    }
   ],
   "source": [
    "! pip install rasterio"
   ]
  },
  {
   "cell_type": "code",
   "execution_count": 28,
   "metadata": {},
   "outputs": [
    {
     "data": {
      "text/html": [
       "\n",
       "            <style>\n",
       "                .geemap-dark {\n",
       "                    --jp-widgets-color: white;\n",
       "                    --jp-widgets-label-color: white;\n",
       "                    --jp-ui-font-color1: white;\n",
       "                    --jp-layout-color2: #454545;\n",
       "                    background-color: #383838;\n",
       "                }\n",
       "\n",
       "                .geemap-dark .jupyter-button {\n",
       "                    --jp-layout-color3: #383838;\n",
       "                }\n",
       "\n",
       "                .geemap-colab {\n",
       "                    background-color: var(--colab-primary-surface-color, white);\n",
       "                }\n",
       "\n",
       "                .geemap-colab .jupyter-button {\n",
       "                    --jp-layout-color3: var(--colab-primary-surface-color, white);\n",
       "                }\n",
       "            </style>\n",
       "            "
      ],
      "text/plain": [
       "<IPython.core.display.HTML object>"
      ]
     },
     "metadata": {},
     "output_type": "display_data"
    },
    {
     "name": "stdout",
     "output_type": "stream",
     "text": [
      "BoundingBox(left=76.72654572110292, bottom=30.631742704719976, right=76.72968982459734, top=30.634168155987098)\n",
      "EPSG:4326\n",
      "| 0.00, 0.00, 76.73|\n",
      "| 0.00,-0.00, 30.63|\n",
      "| 0.00, 0.00, 1.00|\n",
      "35 27\n"
     ]
    }
   ],
   "source": [
    "import rasterio\n",
    "tif_file = 'data/20151207T053212_20151207T053215_T43RFP.B2.tif'\n",
    "with rasterio.open(tif_file) as src:\n",
    "    print(src.bounds)\n",
    "    print(src.crs)\n",
    "    print(src.transform)\n",
    "    print(src.width, src.height)\n",
    "\n",
    "    band_data = src.read(1) #reading the 1st band into the numpy array\n"
   ]
  },
  {
   "cell_type": "code",
   "execution_count": 32,
   "metadata": {},
   "outputs": [
    {
     "data": {
      "text/html": [
       "\n",
       "            <style>\n",
       "                .geemap-dark {\n",
       "                    --jp-widgets-color: white;\n",
       "                    --jp-widgets-label-color: white;\n",
       "                    --jp-ui-font-color1: white;\n",
       "                    --jp-layout-color2: #454545;\n",
       "                    background-color: #383838;\n",
       "                }\n",
       "\n",
       "                .geemap-dark .jupyter-button {\n",
       "                    --jp-layout-color3: #383838;\n",
       "                }\n",
       "\n",
       "                .geemap-colab {\n",
       "                    background-color: var(--colab-primary-surface-color, white);\n",
       "                }\n",
       "\n",
       "                .geemap-colab .jupyter-button {\n",
       "                    --jp-layout-color3: var(--colab-primary-surface-color, white);\n",
       "                }\n",
       "            </style>\n",
       "            "
      ],
      "text/plain": [
       "<IPython.core.display.HTML object>"
      ]
     },
     "metadata": {},
     "output_type": "display_data"
    },
    {
     "name": "stdout",
     "output_type": "stream",
     "text": [
      "<class 'numpy.ndarray'>\n"
     ]
    },
    {
     "data": {
      "text/plain": [
       "(27, 35)"
      ]
     },
     "execution_count": 32,
     "metadata": {},
     "output_type": "execute_result"
    }
   ],
   "source": [
    "print(type(band_data))\n",
    "\n",
    "band_data.shape"
   ]
  },
  {
   "cell_type": "code",
   "execution_count": 36,
   "metadata": {},
   "outputs": [
    {
     "data": {
      "text/html": [
       "\n",
       "            <style>\n",
       "                .geemap-dark {\n",
       "                    --jp-widgets-color: white;\n",
       "                    --jp-widgets-label-color: white;\n",
       "                    --jp-ui-font-color1: white;\n",
       "                    --jp-layout-color2: #454545;\n",
       "                    background-color: #383838;\n",
       "                }\n",
       "\n",
       "                .geemap-dark .jupyter-button {\n",
       "                    --jp-layout-color3: #383838;\n",
       "                }\n",
       "\n",
       "                .geemap-colab {\n",
       "                    background-color: var(--colab-primary-surface-color, white);\n",
       "                }\n",
       "\n",
       "                .geemap-colab .jupyter-button {\n",
       "                    --jp-layout-color3: var(--colab-primary-surface-color, white);\n",
       "                }\n",
       "            </style>\n",
       "            "
      ],
      "text/plain": [
       "<IPython.core.display.HTML object>"
      ]
     },
     "metadata": {},
     "output_type": "display_data"
    },
    {
     "name": "stdout",
     "output_type": "stream",
     "text": [
      "0 1891 0.0\n",
      "[[   0    0    0    0    0    0    0    0    0    0    0    0    0    0\n",
      "     0    0    0    0    0    0    0    0    0 1774 1770 1763    0    0\n",
      "     0    0    0    0    0    0    0]\n",
      " [   0    0    0    0    0    0    0    0    0    0    0    0    0    0\n",
      "     0    0    0    0    0    0    0    0 1789 1785 1778 1758 1762    0\n",
      "     0    0    0    0    0    0    0]\n",
      " [   0    0    0    0    0    0    0    0    0    0    0    0    0    0\n",
      "     0    0    0    0    0    0 1787 1789 1789 1799 1806 1789 1781 1768\n",
      "     0    0    0    0    0    0    0]\n",
      " [   0    0    0    0    0    0    0    0    0    0    0    0    0    0\n",
      "     0    0    0    0    0 1796 1799 1786 1786 1791 1797 1801 1787 1796\n",
      "  1799    0    0    0    0    0    0]\n",
      " [   0    0    0    0    0    0    0    0    0    0    0    0    0    0\n",
      "     0    0    0 1788 1792 1785 1797 1785 1785 1784 1777 1792 1818 1816\n",
      "  1809 1809    0    0    0    0    0]\n",
      " [   0    0    0    0    0    0    0    0    0    0    0    0    0    0\n",
      "     0    0 1787 1794 1791 1789 1796 1790 1790 1781 1792 1792 1788 1819\n",
      "  1810 1810 1836    0    0    0    0]\n",
      " [   0    0    0    0    0    0    0    0    0    0    0    0    0    0\n",
      "  1820 1820 1805 1773 1810 1792 1774 1789 1789 1800 1798 1804 1829 1827\n",
      "  1837 1837 1819 1824    0    0    0]\n",
      " [   0    0    0    0    0    0    0    0    0    0    0    0 1810 1803\n",
      "  1814 1814 1812 1801 1805 1791 1782 1796 1796 1799 1802 1827 1839 1831\n",
      "  1851 1851 1827 1842    0    0    0]\n",
      " [   0    0    0    0    0    0    0    0    0    0    0 1792 1807 1797\n",
      "  1818 1818 1818 1820 1803 1790 1803 1805 1805 1808 1798 1814 1825 1825\n",
      "  1826 1826 1832 1862 1827    0    0]\n",
      " [   0    0    0    0    0    0    0    0    0 1767 1808 1796 1789 1816\n",
      "  1835 1835 1837 1822 1791 1783 1789 1785 1785 1812 1816 1820 1817 1822\n",
      "  1831 1831 1833 1847 1827 1829    0]\n",
      " [   0    0    0    0    0    0    0    0 1792 1813 1788 1792 1799 1833\n",
      "  1832 1832 1833 1834 1817 1766 1777 1785 1785 1799 1782 1807 1809 1815\n",
      "  1819 1827 1827 1818 1837 1836 1848]\n",
      " [   0    0    0    0    0    0 1807 1806 1806 1807 1796 1806 1821 1830\n",
      "  1818 1818 1808 1824 1815 1786 1785 1790 1798 1798 1781 1805 1811 1811\n",
      "  1827 1821 1821 1836 1825 1821    0]\n",
      " [   0    0    0    0    0 1822 1818 1812 1812 1812 1814 1825 1837 1842\n",
      "  1836 1836 1813 1811 1811 1802 1778 1770 1780 1780 1780 1786 1801 1808\n",
      "  1818 1799 1799 1836 1817    0    0]\n",
      " [   0    0    0 1818 1814 1829 1845 1820 1820 1847 1818 1834 1846 1851\n",
      "  1861 1818 1818 1795 1807 1799 1800 1800 1806 1806 1799 1792 1796 1823\n",
      "  1838 1817 1817    0    0    0    0]\n",
      " [   0    0 1848 1840 1830 1826 1830 1828 1828 1842 1844 1827 1830 1826\n",
      "  1842 1816 1816 1821 1821 1805 1809 1827 1808 1808 1799 1824 1831 1821\n",
      "  1836 1829    0    0    0    0    0]\n",
      " [1859 1859 1860 1853 1853 1835 1820 1856 1878 1878 1847 1840 1844 1847\n",
      "  1862 1843 1843 1853 1808 1809 1835 1822 1811 1811 1807 1819 1844 1807\n",
      "     0    0    0    0    0    0    0]\n",
      " [   0 1828 1867 1868 1861 1849 1845 1832 1847 1847 1856 1861 1852 1835\n",
      "  1844 1843 1843 1823 1813 1809 1829 1817 1835 1835 1843 1821 1835    0\n",
      "     0    0    0    0    0    0    0]\n",
      " [   0 1835 1835 1864 1881 1863 1825 1811 1837 1837 1875 1847 1830 1838\n",
      "  1814 1830 1830 1822 1847 1847 1824 1834 1853 1853 1867    0    0    0\n",
      "     0    0    0    0    0    0    0]\n",
      " [   0    0 1847 1848 1861 1837 1835 1849 1825 1825 1860 1860 1849 1858\n",
      "  1817 1838 1838 1823 1824 1826 1850 1830 1850    0    0    0    0    0\n",
      "     0    0    0    0    0    0    0]\n",
      " [   0    0    0 1844 1832 1802 1810 1815 1803 1803 1821 1851 1877 1836\n",
      "  1834 1834 1834 1809 1827 1819 1839 1818    0    0    0    0    0    0\n",
      "     0    0    0    0    0    0    0]\n",
      " [   0    0    0    0 1845 1833 1822 1804 1803 1803 1832 1838 1838 1847\n",
      "  1855 1849 1849 1832 1844 1845    0    0    0    0    0    0    0    0\n",
      "     0    0    0    0    0    0    0]\n",
      " [   0    0    0    0    0 1854 1833 1827 1819 1819 1827 1833 1846 1846\n",
      "  1851 1840 1840 1835 1852    0    0    0    0    0    0    0    0    0\n",
      "     0    0    0    0    0    0    0]\n",
      " [   0    0    0    0    0    0 1829 1860 1830 1830 1840 1845 1854 1859\n",
      "  1831 1837 1839    0    0    0    0    0    0    0    0    0    0    0\n",
      "     0    0    0    0    0    0    0]\n",
      " [   0    0    0    0    0    0    0 1852 1859 1859 1835 1846 1854 1862\n",
      "  1839 1869    0    0    0    0    0    0    0    0    0    0    0    0\n",
      "     0    0    0    0    0    0    0]\n",
      " [   0    0    0    0    0    0    0    0 1838 1848 1848 1853 1883 1891\n",
      "     0    0    0    0    0    0    0    0    0    0    0    0    0    0\n",
      "     0    0    0    0    0    0    0]\n",
      " [   0    0    0    0    0    0    0    0    0 1822 1822 1837 1866    0\n",
      "     0    0    0    0    0    0    0    0    0    0    0    0    0    0\n",
      "     0    0    0    0    0    0    0]\n",
      " [   0    0    0    0    0    0    0    0    0 1835 1835    0    0    0\n",
      "     0    0    0    0    0    0    0    0    0    0    0    0    0    0\n",
      "     0    0    0    0    0    0    0]]\n"
     ]
    }
   ],
   "source": [
    "import numpy as np\n",
    "print(np.min(band_data), np.max(band_data), np.median(band_data))\n",
    "print(band_data)"
   ]
  },
  {
   "cell_type": "code",
   "execution_count": 38,
   "metadata": {},
   "outputs": [
    {
     "data": {
      "text/html": [
       "\n",
       "            <style>\n",
       "                .geemap-dark {\n",
       "                    --jp-widgets-color: white;\n",
       "                    --jp-widgets-label-color: white;\n",
       "                    --jp-ui-font-color1: white;\n",
       "                    --jp-layout-color2: #454545;\n",
       "                    background-color: #383838;\n",
       "                }\n",
       "\n",
       "                .geemap-dark .jupyter-button {\n",
       "                    --jp-layout-color3: #383838;\n",
       "                }\n",
       "\n",
       "                .geemap-colab {\n",
       "                    background-color: var(--colab-primary-surface-color, white);\n",
       "                }\n",
       "\n",
       "                .geemap-colab .jupyter-button {\n",
       "                    --jp-layout-color3: var(--colab-primary-surface-color, white);\n",
       "                }\n",
       "            </style>\n",
       "            "
      ],
      "text/plain": [
       "<IPython.core.display.HTML object>"
      ]
     },
     "metadata": {},
     "output_type": "display_data"
    },
    {
     "name": "stdout",
     "output_type": "stream",
     "text": [
      "458\n",
      "945\n"
     ]
    }
   ],
   "source": [
    "non_zero_count = np.count_nonzero(band_data)\n",
    "print(non_zero_count)\n",
    "print(35*27)\n"
   ]
  },
  {
   "cell_type": "markdown",
   "metadata": {},
   "source": [
    "Let's understand what this array is"
   ]
  },
  {
   "cell_type": "code",
   "execution_count": 39,
   "metadata": {},
   "outputs": [
    {
     "data": {
      "text/html": [
       "\n",
       "            <style>\n",
       "                .geemap-dark {\n",
       "                    --jp-widgets-color: white;\n",
       "                    --jp-widgets-label-color: white;\n",
       "                    --jp-ui-font-color1: white;\n",
       "                    --jp-layout-color2: #454545;\n",
       "                    background-color: #383838;\n",
       "                }\n",
       "\n",
       "                .geemap-dark .jupyter-button {\n",
       "                    --jp-layout-color3: #383838;\n",
       "                }\n",
       "\n",
       "                .geemap-colab {\n",
       "                    background-color: var(--colab-primary-surface-color, white);\n",
       "                }\n",
       "\n",
       "                .geemap-colab .jupyter-button {\n",
       "                    --jp-layout-color3: var(--colab-primary-surface-color, white);\n",
       "                }\n",
       "            </style>\n",
       "            "
      ],
      "text/plain": [
       "<IPython.core.display.HTML object>"
      ]
     },
     "metadata": {},
     "output_type": "display_data"
    },
    {
     "data": {
      "image/png": "[encoded data removed]",
      "text/plain": [
       "<Figure size 640x480 with 1 Axes>"
      ]
     },
     "metadata": {},
     "output_type": "display_data"
    }
   ],
   "source": [
    "import matplotlib.pyplot as plt\n",
    "plt.imshow(band_data)\n",
    "plt.show()\n"
   ]
  },
  {
   "cell_type": "markdown",
   "metadata": {},
   "source": [
    "Let's now see how to use shp files along with tifs to select data from rasters. \n",
    "\n",
    "[Reference Link](https://rasterio.readthedocs.io/en/latest/topics/masking-by-shapefile.html)"
   ]
  },
  {
   "cell_type": "code",
   "execution_count": 1,
   "metadata": {},
   "outputs": [],
   "source": [
    "import geopandas as gpd\n",
    "import rasterio\n",
    "from rasterio.mask import mask\n",
    "\n",
    "# Load the shapefile\n",
    "gdf = gpd.read_file(\"data/potential-construction.shp\")\n",
    "geom = gdf.geometry.iloc[0]  # Assuming there's only one feature\n",
    "shp_crs = gdf.crs  # Get the shapefile CRS\n",
    "\n",
    "# Open the original TIFF file\n",
    "with rasterio.open(\"data/20151207T053212_20151207T053215_T43RFP.B2.tif\") as src:\n",
    "    raster_crs = src.crs  # Get the raster CRS\n",
    "\n",
    "    # Reproject geometry if CRS differs\n",
    "    if shp_crs != raster_crs:\n",
    "        # Reproject shapefile geometry to raster CRS using geopandas\n",
    "        geom = geom.to_crs(raster_crs)\n",
    "\n",
    "    # Mask the raster using the geometry\n",
    "    geom_mask = [geom]  # Convert the geometry to GeoJSON-like format\n",
    "    out_image, out_transform = mask(src, geom_mask, crop=True)\n",
    "\n",
    "    # Update metadata for the new raster\n",
    "    out_meta = src.meta.copy()\n",
    "    out_meta.update({\n",
    "        \"driver\": \"GTiff\",\n",
    "        \"height\": out_image.shape[1],\n",
    "        \"width\": out_image.shape[2],\n",
    "        \"transform\": out_transform\n",
    "    })\n",
    "\n",
    "    # Write the masked raster to a new file\n",
    "    with rasterio.open(\"output.tif\", \"w\", **out_meta) as dst:\n",
    "        dst.write(out_image)"
   ]
  }
 ],
 "metadata": {
  "kernelspec": {
   "display_name": "geods",
   "language": "python",
   "name": "python3"
  },
  "language_info": {
   "codemirror_mode": {
    "name": "ipython",
    "version": 3
   },
   "file_extension": ".py",
   "mimetype": "text/x-python",
   "name": "python",
   "nbconvert_exporter": "python",
   "pygments_lexer": "ipython3",
   "version": "3.12.8"
  }
 },
 "nbformat": 4,
 "nbformat_minor": 2
}
